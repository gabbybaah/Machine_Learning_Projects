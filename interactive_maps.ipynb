{
 "cells": [
  {
   "cell_type": "code",
   "execution_count": null,
   "id": "c4d172de-ea44-431d-8226-a8f5834651a9",
   "metadata": {},
   "outputs": [],
   "source": [
    "import pandas as pd\n",
    "import geopandas as gpd\n",
    "import math\n",
    "import folium\n",
    "from folium import Choropleth, Circle, Marker\n",
    "from folium.plugins import HeatMap, MarkerCluster"
   ]
  },
  {
   "cell_type": "code",
   "execution_count": null,
   "id": "bd46c1e8-3a72-4c98-8fd6-300fe3a9a7a0",
   "metadata": {},
   "outputs": [],
   "source": [
    "#Your first interactive map¶\n",
    "#We begin by creating a relatively simple map with folium.Map().\n",
    "\n",
    "# Create a map\n",
    "m_1 = folium.Map(location=[42.32,-71.0589], tiles='openstreetmap', zoom_start=10)\n",
    "\n",
    "# Display the map\n",
    "m_1"
   ]
  },
  {
   "cell_type": "code",
   "execution_count": null,
   "id": "ba7e9654-3760-4483-9247-2ef9ba539270",
   "metadata": {},
   "outputs": [],
   "source": [
    "# The first five rows of the data are shown below.\n",
    "\n",
    "# Load the data\n",
    "crimes = pd.read_csv(\"../input/geospatial-learn-course-data/crimes-in-boston/crimes-in-boston/crime.csv\", encoding='latin-1')\n",
    "\n",
    "# Drop rows with missing locations\n",
    "crimes.dropna(subset=['Lat', 'Long', 'DISTRICT'], inplace=True)\n",
    "\n",
    "# Focus on major crimes in 2018\n",
    "crimes = crimes[crimes.OFFENSE_CODE_GROUP.isin([\n",
    "    'Larceny', 'Auto Theft', 'Robbery', 'Larceny From Motor Vehicle', 'Residential Burglary',\n",
    "    'Simple Assault', 'Harassment', 'Ballistics', 'Aggravated Assault', 'Other Burglary', \n",
    "    'Arson', 'Commercial Burglary', 'HOME INVASION', 'Homicide', 'Criminal Harassment', \n",
    "    'Manslaughter'])]\n",
    "crimes = crimes[crimes.YEAR>=2018]\n",
    "\n",
    "# Print the first five rows of the table\n",
    "crimes.head()"
   ]
  },
  {
   "cell_type": "code",
   "execution_count": null,
   "id": "7b3d7423-b248-4864-b736-84516cc939ab",
   "metadata": {},
   "outputs": [],
   "source": [
    "# Plotting points¶\n",
    "\n",
    "daytime_robberies = crimes[((crimes.OFFENSE_CODE_GROUP == 'Robbery') & \\\n",
    "                            (crimes.HOUR.isin(range(9,18))))]"
   ]
  },
  {
   "cell_type": "code",
   "execution_count": null,
   "id": "6bace5f0-69ad-4ae6-a65d-e1ec0462e4ae",
   "metadata": {},
   "outputs": [],
   "source": [
    "# folium.Marker\n",
    "# We add markers to the map with folium.Marker(). Each marker below corresponds to a different robbery.\n",
    "\n",
    "# Create a map\n",
    "m_2 = folium.Map(location=[42.32,-71.0589], tiles='cartodbpositron', zoom_start=13)\n",
    "\n",
    "# Add points to the map\n",
    "for idx, row in daytime_robberies.iterrows():\n",
    "    Marker([row['Lat'], row['Long']]).add_to(m_2)\n",
    "\n",
    "# Display the map\n",
    "m_2"
   ]
  },
  {
   "cell_type": "code",
   "execution_count": null,
   "id": "6cdd2d66-f432-4fd4-af6a-fb00835d03ca",
   "metadata": {},
   "outputs": [],
   "source": [
    "# folium.plugins.MarkerCluster\n",
    "\n",
    "# Create the map\n",
    "m_3 = folium.Map(location=[42.32,-71.0589], tiles='cartodbpositron', zoom_start=13)\n",
    "\n",
    "# Add points to the map\n",
    "mc = MarkerCluster()\n",
    "for idx, row in daytime_robberies.iterrows():\n",
    "    if not math.isnan(row['Long']) and not math.isnan(row['Lat']):\n",
    "        mc.add_child(Marker([row['Lat'], row['Long']]))\n",
    "m_3.add_child(mc)\n",
    "\n",
    "# Display the map\n",
    "m_3"
   ]
  },
  {
   "cell_type": "code",
   "execution_count": null,
   "id": "89cf9b86-2316-4edf-9f4c-e42d57e6984f",
   "metadata": {},
   "outputs": [],
   "source": [
    "# Bubble maps¶\n",
    "# A bubble map uses circles instead of markers. By varying the size and color of each circle, we can also show the relationship \n",
    "# between location and two other variables.\n",
    "\n",
    "# Create a base map\n",
    "m_4 = folium.Map(location=[42.32,-71.0589], tiles='cartodbpositron', zoom_start=13)\n",
    "\n",
    "def color_producer(val):\n",
    "    if val <= 12:\n",
    "        return 'forestgreen'\n",
    "    else:\n",
    "        return 'darkred'\n",
    "\n",
    "# Add a bubble map to the base map\n",
    "for i in range(0,len(daytime_robberies)):\n",
    "    Circle(\n",
    "        location=[daytime_robberies.iloc[i]['Lat'], daytime_robberies.iloc[i]['Long']],\n",
    "        radius=20,\n",
    "        color=color_producer(daytime_robberies.iloc[i]['HOUR'])).add_to(m_4)\n",
    "\n",
    "# Display the map\n",
    "m_4"
   ]
  },
  {
   "cell_type": "code",
   "execution_count": null,
   "id": "c2cb80d4-5820-41dd-be40-6083b5fb757d",
   "metadata": {},
   "outputs": [],
   "source": [
    "'''Note that folium.Circle() takes several arguments:\n",
    "\n",
    "location is a list containing the center of the circle, in latitude and longitude.\n",
    "radius sets the radius of the circle.\n",
    "Note that in a traditional bubble map, the radius of each circle is allowed to vary. We can implement this by defining a function similar to the color_producer() function that is used to vary the color of each circle.\n",
    "color sets the color of each circle.\n",
    "The color_producer() function is used to visualize the effect of the hour on robbery location.'''"
   ]
  },
  {
   "cell_type": "code",
   "execution_count": null,
   "id": "ee0ebd70-0bbe-4a1b-8d03-09e5a554ef2b",
   "metadata": {},
   "outputs": [],
   "source": [
    "# Heatmaps\n",
    "# To create a heatmap, we use folium.plugins.HeatMap(). This shows the density of crime in different areas of the city, \n",
    "# where red areas have relatively more criminal incidents.\n",
    "\n",
    "# Create a base map\n",
    "m_5 = folium.Map(location=[42.32,-71.0589], tiles='cartodbpositron', zoom_start=12)\n",
    "\n",
    "# Add a heatmap to the base map\n",
    "HeatMap(data=crimes[['Lat', 'Long']], radius=10).add_to(m_5)\n",
    "\n",
    "# Display the map\n",
    "m_5"
   ]
  },
  {
   "cell_type": "code",
   "execution_count": null,
   "id": "2547bb1a-5421-4773-ae5d-5ced94859d61",
   "metadata": {},
   "outputs": [],
   "source": [
    "'''data is a DataFrame containing the locations that we'd like to plot.\n",
    "radius controls the smoothness of the heatmap. Higher values make the heatmap look smoother (i.e., with fewer gaps).'''"
   ]
  },
  {
   "cell_type": "code",
   "execution_count": null,
   "id": "3d19c481-9156-4397-a9b8-677f4a69043f",
   "metadata": {},
   "outputs": [],
   "source": [
    "# Choropleth maps\n",
    "# To understand how crime varies by police district, we'll create a choropleth map.\n",
    "\n",
    "# As a first step, we create a GeoDataFrame where each district is assigned a different row, and the \"geometry\" column contains \n",
    "# the geographical boundaries.\n",
    "\n",
    "# GeoDataFrame with geographical boundaries of Boston police districts\n",
    "districts_full = gpd.read_file('../input/geospatial-learn-course-data/Police_Districts/Police_Districts/Police_Districts.shp')\n",
    "districts = districts_full[[\"DISTRICT\", \"geometry\"]].set_index(\"DISTRICT\")\n",
    "districts.head()"
   ]
  },
  {
   "cell_type": "code",
   "execution_count": null,
   "id": "6e1dc283-b3ed-437c-a651-966174706b52",
   "metadata": {},
   "outputs": [],
   "source": [
    "# We also create a Pandas Series called plot_dict that shows the number of crimes in each district.\n",
    "\n",
    "# Number of crimes in each police district\n",
    "plot_dict = crimes.DISTRICT.value_counts()\n",
    "plot_dict.head()"
   ]
  },
  {
   "cell_type": "code",
   "execution_count": null,
   "id": "374cbd8e-a1e4-4ced-812a-abf300f5a9a9",
   "metadata": {},
   "outputs": [],
   "source": [
    "# Using the folium.Choropleth() class, we can create a choropleth map.\n",
    "\n",
    "# Create a base map\n",
    "m_6 = folium.Map(location=[42.32,-71.0589], tiles='cartodbpositron', zoom_start=12)\n",
    "\n",
    "# Add a choropleth map to the base map\n",
    "Choropleth(geo_data=districts.__geo_interface__, \n",
    "           data=plot_dict, \n",
    "           key_on=\"feature.id\", \n",
    "           fill_color='YlGnBu', \n",
    "           legend_name='Major criminal incidents (Jan-Aug 2018)'\n",
    "          ).add_to(m_6)\n",
    "\n",
    "# Display the map\n",
    "m_6"
   ]
  },
  {
   "cell_type": "code",
   "execution_count": null,
   "id": "75cfe74b-a9f9-4ffb-90bb-91d255ed2fe1",
   "metadata": {},
   "outputs": [],
   "source": []
  },
  {
   "cell_type": "code",
   "execution_count": null,
   "id": "c5387edd-457e-4e73-93e4-fe2f6656eace",
   "metadata": {},
   "outputs": [],
   "source": [
    "'''Introduction\n",
    "You are an urban safety planner in Japan, and you are analyzing which areas of Japan need extra earthquake reinforcement. Which areas are both high in population density and prone to earthquakes?'''"
   ]
  },
  {
   "cell_type": "code",
   "execution_count": null,
   "id": "29823f13-566a-44f7-887f-9b8d178c3430",
   "metadata": {},
   "outputs": [],
   "source": [
    "import pandas as pd\n",
    "import geopandas as gpd\n",
    "import folium\n",
    "from folium import Choropleth\n",
    "from folium.plugins import HeatMap"
   ]
  },
  {
   "cell_type": "code",
   "execution_count": null,
   "id": "2dd7a348-d905-4f0e-b148-49283ce500af",
   "metadata": {},
   "outputs": [],
   "source": [
    "def embed_map(m, file_name):\n",
    "    from IPython.display import IFrame\n",
    "    m.save(file_name)\n",
    "    return IFrame(file_name, width='100%', height='500px')"
   ]
  },
  {
   "cell_type": "code",
   "execution_count": null,
   "id": "0025bd0e-370a-429b-bbd9-96a9ac40ee78",
   "metadata": {},
   "outputs": [],
   "source": [
    "# Exercises\n",
    "# 1) Do earthquakes coincide with plate boundaries?\n",
    "\n",
    "# create a DataFrame plate_boundaries that shows global plate boundaries. \n",
    "# The \"coordinates\" column is a list of (latitude, longitude) locations along the boundaries.\n",
    "\n",
    "plate_boundaries = gpd.read_file(\"../input/geospatial-learn-course-data/Plate_Boundaries/Plate_Boundaries/Plate_Boundaries.shp\")\n",
    "plate_boundaries['coordinates'] = plate_boundaries.apply(lambda x: [(b,a) for (a,b) in list(x.geometry.coords)], axis='columns')\n",
    "plate_boundaries.drop('geometry', axis=1, inplace=True)\n",
    "\n",
    "plate_boundaries.head()"
   ]
  },
  {
   "cell_type": "code",
   "execution_count": null,
   "id": "96bed869-9b3e-4ce0-8b6a-25b1d338dde2",
   "metadata": {},
   "outputs": [],
   "source": [
    "# Load the data and print the first 5 rows\n",
    "earthquakes = pd.read_csv(\"../input/geospatial-learn-course-data/earthquakes1970-2014.csv\", parse_dates=[\"DateTime\"])\n",
    "earthquakes.head()"
   ]
  },
  {
   "cell_type": "code",
   "execution_count": null,
   "id": "68c77e42-b9da-4f03-8a63-b81144691d71",
   "metadata": {},
   "outputs": [],
   "source": [
    "# Use all of the earthquake data to add a heatmap to the same map, to determine whether earthquakes coincide with plate boundaries.\n",
    "\n",
    "# Create a base map with plate boundaries\n",
    "m_1 = folium.Map(location=[35,136], tiles='cartodbpositron', zoom_start=5)\n",
    "for i in range(len(plate_boundaries)):\n",
    "    folium.PolyLine(locations=plate_boundaries.coordinates.iloc[i], weight=2, color='black').add_to(m_1)\n",
    "\n",
    "# Your code here: Add a heatmap to the map\n",
    "HeatMap(data=earthquakes[['Latitude', 'Longitude']], radius=15).add_to(m_1)\n",
    "\n",
    "# Uncomment to see a hint\n",
    "#q_1.a.hint()\n",
    "\n",
    "# Show the map\n",
    "embed_map(m_1, 'q_1.html')"
   ]
  },
  {
   "cell_type": "code",
   "execution_count": null,
   "id": "1fc2e8a6-899c-4a66-a61b-478e8ca9181c",
   "metadata": {},
   "outputs": [],
   "source": [
    "'''Solution: Yes, earthquakes coincide with plate boundaries.'''"
   ]
  },
  {
   "cell_type": "code",
   "execution_count": null,
   "id": "e46047cc-dc32-4506-a7a9-96ebbe53edc2",
   "metadata": {},
   "outputs": [],
   "source": [
    "'''2) Is there a relationship between earthquake depth and proximity to a plate boundary in Japan?\n",
    "You recently read that the depth of earthquakes tells us important information about the structure of the earth. You're interested to see if there are any intereresting global patterns, and you'd also like to understand how depth varies in Japan.'''"
   ]
  },
  {
   "cell_type": "code",
   "execution_count": null,
   "id": "fd07b72d-e379-4bdf-b62f-8aa7900e2702",
   "metadata": {},
   "outputs": [],
   "source": [
    "# Create a base map with plate boundaries\n",
    "m_2 = folium.Map(location=[35,136], tiles='cartodbpositron', zoom_start=5)\n",
    "for i in range(len(plate_boundaries)):\n",
    "    folium.PolyLine(locations=plate_boundaries.coordinates.iloc[i], weight=2, color='black').add_to(m_2)\n",
    "    \n",
    "# Custom function to assign a color to each circle\n",
    "def color_producer(val):\n",
    "    if val < 50:\n",
    "        return 'forestgreen'\n",
    "    elif val < 100:\n",
    "        return 'darkorange'\n",
    "    else:\n",
    "        return 'darkred'\n",
    "\n",
    "# Add a map to visualize earthquake depth\n",
    "for i in range(0,len(earthquakes)):\n",
    "    folium.Circle(\n",
    "        location=[earthquakes.iloc[i]['Latitude'], earthquakes.iloc[i]['Longitude']],\n",
    "        radius=2000,\n",
    "        color=color_producer(earthquakes.iloc[i]['Depth'])).add_to(m_2)\n",
    "\n",
    "# View the map\n",
    "embed_map(m_2, 'q_2.html')"
   ]
  },
  {
   "cell_type": "code",
   "execution_count": null,
   "id": "7c33e41d-d52a-4abc-92de-0a8592a461b1",
   "metadata": {},
   "outputs": [],
   "source": [
    "'''Solution: In the northern half of Japan, it does appear that earthquakes closer to plate boundaries tend to be shallower (and earthquakes farther from plate boundaries are deeper). This pattern is repeated in other locations, such as the western coast of South America. But, it does not hold everywhere (for instance, in China, Mongolia, and Russia).'''"
   ]
  },
  {
   "cell_type": "code",
   "execution_count": null,
   "id": "19a87dbb-8459-4519-b4d6-e1f73d26873e",
   "metadata": {},
   "outputs": [],
   "source": [
    "'''Which prefectures have high population density?\n",
    "create a GeoDataFrame prefectures that contains the geographical boundaries of Japanese prefectures."
   ]
  },
  {
   "cell_type": "code",
   "execution_count": null,
   "id": "3b4bed2f-87a4-4567-8617-10b7f1a8e979",
   "metadata": {},
   "outputs": [],
   "source": [
    "# GeoDataFrame with prefecture boundaries\n",
    "prefectures = gpd.read_file(\"../input/geospatial-learn-course-data/japan-prefecture-boundaries/japan-prefecture-boundaries/japan-prefecture-boundaries.shp\")\n",
    "prefectures.set_index('prefecture', inplace=True)\n",
    "prefectures.head()"
   ]
  },
  {
   "cell_type": "code",
   "execution_count": null,
   "id": "5adef285-1459-444a-bda1-4a1aa2f63373",
   "metadata": {},
   "outputs": [],
   "source": [
    "# The next code cell creates a DataFrame stats containing the population, area (in square kilometers), and population density (per square kilometer) for each Japanese prefecture.\n",
    "\n",
    "# DataFrame containing population of each prefecture\n",
    "population = pd.read_csv(\"../input/geospatial-learn-course-data/japan-prefecture-population.csv\")\n",
    "population.set_index('prefecture', inplace=True)\n",
    "\n",
    "# Calculate area (in square kilometers) of each prefecture\n",
    "area_sqkm = pd.Series(prefectures.geometry.to_crs(epsg=32654).area / 10**6, name='area_sqkm')\n",
    "stats = population.join(area_sqkm)\n",
    "\n",
    "# Add density (per square kilometer) of each prefecture\n",
    "stats['density'] = stats[\"population\"] / stats[\"area_sqkm\"]\n",
    "stats.head()"
   ]
  },
  {
   "cell_type": "code",
   "execution_count": null,
   "id": "136191c1-c787-4356-a9f2-3ae934cd7e3a",
   "metadata": {},
   "outputs": [],
   "source": [
    "# create a choropleth map to visualize population density.\n",
    "\n",
    "# Create a base map\n",
    "m_3 = folium.Map(location=[35,136], tiles='cartodbpositron', zoom_start=5)\n",
    "\n",
    "# create a choropleth map to visualize population density\n",
    "Choropleth(geo_data=prefectures['geometry'].__geo_interface__,\n",
    "           data=stats['density'],\n",
    "           key_on=\"feature.id\",\n",
    "           fill_color='YlGnBu',\n",
    "           legend_name='Population density (per square kilometer)'\n",
    "          ).add_to(m_3)\n",
    "\n",
    "# Uncomment to see a hint\n",
    "#q_3.a.hint()\n",
    "\n",
    "# View the map\n",
    "embed_map(m_3, 'q_3.html')"
   ]
  },
  {
   "cell_type": "code",
   "execution_count": null,
   "id": "64efc164-7fbc-4e5d-bb2f-f9be5db03fe6",
   "metadata": {},
   "outputs": [],
   "source": [
    "'''Solution: Tokyo, Kanagawa, and Osaka have the highest population density. All of these prefectures are located in central Japan, and Tokyo and Kanagawa are adjacent.'''"
   ]
  },
  {
   "cell_type": "code",
   "execution_count": null,
   "id": "56852007-3497-4814-87e3-ce49943f212a",
   "metadata": {},
   "outputs": [],
   "source": [
    "# 4) Which high-density prefecture is prone to high-magnitude earthquakes?\n",
    "# Create a map to suggest one prefecture that might benefit from earthquake reinforcement. Your map should visualize both density and earthquake magnitude.\n",
    "\n",
    "# Create a map\n",
    "def color_producer(magnitude):\n",
    "    if magnitude > 6.5:\n",
    "        return 'red'\n",
    "    else:\n",
    "        return 'green'\n",
    "\n",
    "Choropleth(\n",
    "    geo_data=prefectures['geometry'].__geo_interface__,\n",
    "    data=stats['density'],\n",
    "    key_on=\"feature.id\",\n",
    "    fill_color='BuPu',\n",
    "    legend_name='Population density (per square kilometer)').add_to(m_4)\n",
    "\n",
    "for i in range(0,len(earthquakes)):\n",
    "    folium.Circle(\n",
    "        location=[earthquakes.iloc[i]['Latitude'], earthquakes.iloc[i]['Longitude']],\n",
    "        popup=(\"{} ({})\").format(\n",
    "            earthquakes.iloc[i]['Magnitude'],\n",
    "            earthquakes.iloc[i]['DateTime'].year),\n",
    "        radius=earthquakes.iloc[i]['Magnitude']**5.5,\n",
    "        color=color_producer(earthquakes.iloc[i]['Magnitude'])).add_to(m_4)\n",
    "\n",
    "# View the map\n",
    "embed_map(m_4, 'q_4.html')"
   ]
  },
  {
   "cell_type": "code",
   "execution_count": null,
   "id": "58026d74-66e5-45fd-8680-ed18dac7e66d",
   "metadata": {},
   "outputs": [],
   "source": [
    "'''Solution: While there's no clear, single answer to this question, there are a few reasonable options. Tokyo is by far the most densely populated prefecture and has also experienced a number of earthquakes. Osaka is relatively less densely populated, but experienced an earthquake that was relatively stronger than those near Tokyo. And, the long coast of Kanagawa (in addition to its high density and the historical proximity of strong earthquakes) might lead us to worry about the added potential tsunami risk.'''"
   ]
  },
  {
   "cell_type": "code",
   "execution_count": null,
   "id": "99a918b7-57f3-41d8-acca-adadd649afdb",
   "metadata": {},
   "outputs": [],
   "source": []
  },
  {
   "cell_type": "code",
   "execution_count": null,
   "id": "dbb940be-0539-41ac-baaa-e4e56fe23cad",
   "metadata": {},
   "outputs": [],
   "source": []
  }
 ],
 "metadata": {
  "kernelspec": {
   "display_name": "Python 3 (ipykernel)",
   "language": "python",
   "name": "python3"
  },
  "language_info": {
   "codemirror_mode": {
    "name": "ipython",
    "version": 3
   },
   "file_extension": ".py",
   "mimetype": "text/x-python",
   "name": "python",
   "nbconvert_exporter": "python",
   "pygments_lexer": "ipython3",
   "version": "3.9.2"
  }
 },
 "nbformat": 4,
 "nbformat_minor": 5
}
