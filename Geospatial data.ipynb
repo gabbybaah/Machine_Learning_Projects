{
 "cells": [
  {
   "cell_type": "code",
   "execution_count": 1,
   "id": "1fb39564-3c67-4776-a1c5-b7631f2f95d8",
   "metadata": {},
   "outputs": [
    {
     "ename": "ModuleNotFoundError",
     "evalue": "No module named 'geopandas'",
     "output_type": "error",
     "traceback": [
      "\u001b[0;31m---------------------------------------------------------------------------\u001b[0m",
      "\u001b[0;31mModuleNotFoundError\u001b[0m                       Traceback (most recent call last)",
      "Cell \u001b[0;32mIn[1], line 1\u001b[0m\n\u001b[0;32m----> 1\u001b[0m \u001b[38;5;28;01mimport\u001b[39;00m \u001b[38;5;21;01mgeopandas\u001b[39;00m \u001b[38;5;28;01mas\u001b[39;00m \u001b[38;5;21;01mgpd\u001b[39;00m\n",
      "\u001b[0;31mModuleNotFoundError\u001b[0m: No module named 'geopandas'"
     ]
    }
   ],
   "source": [
    "import geopandas as gpd"
   ]
  },
  {
   "cell_type": "code",
   "execution_count": null,
   "id": "d9d9843f-ae39-407f-b042-17b899575fb7",
   "metadata": {},
   "outputs": [],
   "source": [
    "# Read in the data\n",
    "full_data = gpd.read_file(\"/home/tebrigabby/python/data_files/DEC_lands/DEC_lands.shp\")\n",
    "\n",
    "# View the first five rows of the data\n",
    "full_data.head()"
   ]
  },
  {
   "cell_type": "code",
   "execution_count": null,
   "id": "453f6984-d0bc-4cb6-86bf-19cdc1d3bc3a",
   "metadata": {},
   "outputs": [],
   "source": [
    "type(full_data)"
   ]
  },
  {
   "cell_type": "code",
   "execution_count": null,
   "id": "29c89fe6-2c93-477b-bd67-7d4b5e8e669a",
   "metadata": {},
   "outputs": [],
   "source": [
    "data = full_data.loc[:, [\"CLASS\", \"COUNTY\", \"geometry\"]].copy()"
   ]
  },
  {
   "cell_type": "code",
   "execution_count": null,
   "id": "9d2bc411-f66e-4e74-a37d-4e5e5b8f677a",
   "metadata": {},
   "outputs": [],
   "source": [
    "# We use the value_counts() method to see a list of different land types, along with how many times they appear in the dataset.\n",
    "\n",
    "# How many lands of each type are there?\n",
    "data.CLASS.value_counts()"
   ]
  },
  {
   "cell_type": "code",
   "execution_count": null,
   "id": "30ff6a62-0669-42ef-b495-b7f2b876e3da",
   "metadata": {},
   "outputs": [],
   "source": [
    "# Select lands that fall under the \"WILD FOREST\" or \"WILDERNESS\" category\n",
    "wild_lands = data.loc[data.CLASS.isin(['WILD FOREST', 'WILDERNESS'])].copy()\n",
    "wild_lands.head()"
   ]
  },
  {
   "cell_type": "code",
   "execution_count": null,
   "id": "ac3ce18a-6822-4f8a-a8bc-d3ff013180ca",
   "metadata": {},
   "outputs": [],
   "source": [
    "# Create map!\n",
    "# We can quickly visualize the data with the plot() method.\n",
    "\n",
    "wild_lands.plot()"
   ]
  },
  {
   "cell_type": "code",
   "execution_count": null,
   "id": "d3835644-5993-4833-81c2-25bcc53fbce7",
   "metadata": {},
   "outputs": [],
   "source": [
    "# View the first five entries in the \"geometry\" column\n",
    "wild_lands.geometry.head()"
   ]
  },
  {
   "cell_type": "code",
   "execution_count": null,
   "id": "69e5ba64-352b-49bd-8b67-5ffaaebf9542",
   "metadata": {},
   "outputs": [],
   "source": [
    "# In the code cell below, we create three more GeoDataFrames, containing campsite locations (Point), foot trails (LineString), \n",
    "# and county boundaries (Polygon).\n",
    "\n",
    "# Campsites in New York state (Point)\n",
    "POI_data = gpd.read_file(\"/home/tebrigabby/python/data_files/Decptsofinterest.shp\")\n",
    "campsites = POI_data.loc[POI_data.ASSET=='PRIMITIVE CAMPSITE'].copy()\n",
    "\n",
    "# Foot trails in New York state (LineString)\n",
    "roads_trails = gpd.read_file(\"/home/tebrigabby/python/data_files/Decroadstrails.shp\")\n",
    "trails = roads_trails.loc[roads_trails.ASSET=='FOOT TRAIL'].copy()\n",
    "\n",
    "# County boundaries in New York state (Polygon)\n",
    "counties = gpd.read_file(\"/home/tebrigabby/python/data_files/NY_county_boundaries.shp\")"
   ]
  },
  {
   "cell_type": "code",
   "execution_count": null,
   "id": "b23e2a66-eb3c-4ce1-8765-3d9039cbee46",
   "metadata": {},
   "outputs": [],
   "source": [
    "# the value for ax ensures that all of the information is plotted on the same map.\n",
    "\n",
    "# Define a base map with county boundaries\n",
    "ax = counties.plot(figsize=(10,10), color='none', edgecolor='gainsboro', zorder=3)\n",
    "\n",
    "# Add wild lands, campsites, and foot trails to the base map\n",
    "wild_lands.plot(color='lightgreen', ax=ax)\n",
    "campsites.plot(color='maroon', markersize=2, ax=ax)\n",
    "trails.plot(color='black', markersize=1, ax=ax)"
   ]
  },
  {
   "cell_type": "code",
   "execution_count": null,
   "id": "2aefbe15-fc39-404d-95ba-1fc06eed6e6b",
   "metadata": {},
   "outputs": [],
   "source": []
  },
  {
   "cell_type": "code",
   "execution_count": null,
   "id": "8366d755-69fa-4e2c-aa6c-ded390720c13",
   "metadata": {},
   "outputs": [],
   "source": [
    "import geopandas as gpd\n",
    "\n",
    "loans_filepath = \"../input/geospatial-learn-course-data/kiva_loans/kiva_loans/kiva_loans.shp\"\n",
    "\n",
    "# Your code here: Load the data\n",
    "world_loans = gpd.read_file(loans_filepath)\n",
    "\n",
    "# view the first five rows of the data\n",
    "world_loans.head()"
   ]
  },
  {
   "cell_type": "code",
   "execution_count": null,
   "id": "8ca0c334-e8c5-4055-8c19-1dcf8888a6af",
   "metadata": {},
   "outputs": [],
   "source": [
    "# 2) Plot the data\n",
    "# This dataset is provided in GeoPandas\n",
    "world_filepath = gpd.datasets.get_path('naturalearth_lowres')\n",
    "world = gpd.read_file(world_filepath)\n",
    "world.head()"
   ]
  },
  {
   "cell_type": "code",
   "execution_count": null,
   "id": "7d432d02-dad9-447b-9bd9-51f5800e48b1",
   "metadata": {},
   "outputs": [],
   "source": [
    "# Use the world and world_loans GeoDataFrames to visualize Kiva loan locations across the world.\n",
    "\n",
    "ax = world.plot(figsize=(20,20), color='whitesmoke', linestyle=':', edgecolor='black')\n",
    "world_loans.plot(ax=ax, markersize=2)"
   ]
  },
  {
   "cell_type": "code",
   "execution_count": null,
   "id": "d04c257c-6410-4fc8-b1da-fe20a3c00bc0",
   "metadata": {},
   "outputs": [],
   "source": [
    "# 3) Select loans based in the Philippines.\n",
    "\n",
    "PHL_loans = world_loans.loc[world_loans.country==\"Philippines\"].copy()"
   ]
  },
  {
   "cell_type": "code",
   "execution_count": null,
   "id": "ef652e5c-d37d-4c5f-aceb-349401e99f0b",
   "metadata": {},
   "outputs": [],
   "source": [
    "# 4) Understand loans in the Philippines.\n",
    "\n",
    "# Load a KML file containing island boundaries\n",
    "gpd.io.file.fiona.drvsupport.supported_drivers['KML'] = 'rw'\n",
    "PHL = gpd.read_file(\"../input/geospatial-learn-course-data/Philippines_AL258.kml\", driver='KML')\n",
    "PHL.head()"
   ]
  },
  {
   "cell_type": "code",
   "execution_count": null,
   "id": "49197786-3a34-4535-bc83-808b9bf895fd",
   "metadata": {},
   "outputs": [],
   "source": [
    "# Use the PHL and PHL_loans GeoDataFrames to visualize loans in the Philippines.\n",
    "\n",
    "ax = PHL.plot(figsize=(12,12), color='whitesmoke', linestyle=':', edgecolor='lightgray')\n",
    "PHL_loans.plot(ax=ax, markersize=2)"
   ]
  },
  {
   "cell_type": "code",
   "execution_count": null,
   "id": "95a0d577-c388-4a8a-b999-4765999156ec",
   "metadata": {},
   "outputs": [],
   "source": [
    "'''There are a number of potential islands, but Mindoro (in the central part of the Philippines) stands out as a relatively large island without any loans in the current dataset. This island is potentially a good location for recruiting new Field Partners!'''"
   ]
  },
  {
   "cell_type": "code",
   "execution_count": null,
   "id": "929f0b2e-1bd2-4765-be29-f1890219a7e4",
   "metadata": {},
   "outputs": [],
   "source": []
  },
  {
   "cell_type": "code",
   "execution_count": null,
   "id": "9ecd6cd2-434f-463c-b1fc-7511b1a6ec45",
   "metadata": {},
   "outputs": [],
   "source": [
    "# Coordinate Reference Systems\n",
    "\n",
    "import geopandas as gpd\n",
    "import pandas as pd\n",
    "\n",
    "# Setting the CRS¶\n",
    "# When we create a GeoDataFrame from a shapefile, the CRS is already imported for us\n",
    "# Load a GeoDataFrame containing regions in Ghana\n",
    "regions = gpd.read_file(\"../input/geospatial-learn-course-data/ghana/ghana/Regions/Map_of_Regions_in_Ghana.shp\")\n",
    "print(regions.crs)"
   ]
  },
  {
   "cell_type": "code",
   "execution_count": null,
   "id": "39f5fe5f-149f-4297-8b80-8aca04426dff",
   "metadata": {},
   "outputs": [],
   "source": [
    "# when creating a GeoDataFrame from a CSV file, we have to set the CRS. EPSG 4326 corresponds to coordinates in latitude and longitude.\n",
    "\n",
    "# Create a DataFrame with health facilities in Ghana\n",
    "facilities_df = pd.read_csv(\"../input/geospatial-learn-course-data/ghana/ghana/health_facilities.csv\")\n",
    "\n",
    "# Convert the DataFrame to a GeoDataFrame\n",
    "facilities = gpd.GeoDataFrame(facilities_df, geometry=gpd.points_from_xy(facilities_df.Longitude, facilities_df.Latitude))\n",
    "\n",
    "# Set the coordinate reference system (CRS) to EPSG 4326\n",
    "facilities.crs = {'init': 'epsg:4326'}\n",
    "\n",
    "# View the first five rows of the GeoDataFrame\n",
    "facilities.head()"
   ]
  },
  {
   "cell_type": "code",
   "execution_count": null,
   "id": "4ee7e6af-a73d-4512-acd5-5353a9167992",
   "metadata": {},
   "outputs": [],
   "source": [
    "'''We begin by creating a DataFrame containing columns with latitude and longitude coordinates.\n",
    "To convert it to a GeoDataFrame, we use gpd.GeoDataFrame().\n",
    "The gpd.points_from_xy() function creates Point objects from the latitude and longitude columns.'''"
   ]
  },
  {
   "cell_type": "code",
   "execution_count": null,
   "id": "52468aec-dadf-4261-bf2c-feaa4e9ac41a",
   "metadata": {},
   "outputs": [],
   "source": [
    "# Re-projecting¶\n",
    "# Re-projecting refers to the process of changing the CRS. This is done in GeoPandas with the to_crs() method.\n",
    "\n",
    "# Create a map\n",
    "ax = regions.plot(figsize=(8,8), color='whitesmoke', linestyle=':', edgecolor='black')\n",
    "facilities.to_crs(epsg=32630).plot(markersize=1, ax=ax)"
   ]
  },
  {
   "cell_type": "code",
   "execution_count": null,
   "id": "ae251e09-f84a-4fc2-af37-0324359b41a3",
   "metadata": {},
   "outputs": [],
   "source": [
    "# The to_crs() method modifies only the \"geometry\" column: all other columns are left as-is.\n",
    "\n",
    "# The \"Latitude\" and \"Longitude\" columns are unchanged\n",
    "facilities.to_crs(epsg=32630).head()"
   ]
  },
  {
   "cell_type": "code",
   "execution_count": null,
   "id": "ddbb62e3-5a38-400e-ac7a-5d5e1e72d570",
   "metadata": {},
   "outputs": [],
   "source": [
    "# In case the EPSG code is not available in GeoPandas, we can change the CRS with what's known as the \"proj4 string\" of the CRS. \n",
    "# For instance, the proj4 string to convert to latitude/longitude coordinates is as follows:\n",
    "\n",
    "# Change the CRS to EPSG 4326\n",
    "regions.to_crs(\"+proj=longlat +ellps=WGS84 +datum=WGS84 +no_defs\").head()"
   ]
  },
  {
   "cell_type": "code",
   "execution_count": null,
   "id": "fd3a78b9-7f22-4bc2-9e64-ac7017ee8d4f",
   "metadata": {},
   "outputs": [],
   "source": [
    "# you can get the x- and y-coordinates of a Point from the x and y attributes, respectively.\n",
    "\n",
    "# Get the x-coordinate of each point\n",
    "facilities.geometry.head().x"
   ]
  },
  {
   "cell_type": "code",
   "execution_count": null,
   "id": "284dd2fa-c743-4e3d-9e22-48f846a3d4eb",
   "metadata": {},
   "outputs": [],
   "source": [
    "# And, you can get the length of a LineString from the length attribute.Or, you can get the area of a Polygon from the area attribute.\n",
    "\n",
    "# Calculate the area (in square meters) of each polygon in the GeoDataFrame \n",
    "regions.loc[:, \"AREA\"] = regions.geometry.area / 10**6\n",
    "\n",
    "print(\"Area of Ghana: {} square kilometers\".format(regions.AREA.sum()))\n",
    "print(\"CRS:\", regions.crs)\n",
    "regions.head()"
   ]
  },
  {
   "cell_type": "code",
   "execution_count": null,
   "id": "4ca8bc3f-f798-4b90-89ba-f22207afcb4b",
   "metadata": {},
   "outputs": [],
   "source": []
  },
  {
   "cell_type": "code",
   "execution_count": null,
   "id": "9fc629cb-5536-4364-9175-1b84eb9f0cd9",
   "metadata": {},
   "outputs": [],
   "source": []
  },
  {
   "cell_type": "code",
   "execution_count": null,
   "id": "a5279c87-a455-46b6-b853-03bfccbe3474",
   "metadata": {},
   "outputs": [],
   "source": []
  },
  {
   "cell_type": "code",
   "execution_count": null,
   "id": "9f32531f-4334-4363-a532-d776299e11b4",
   "metadata": {},
   "outputs": [],
   "source": []
  }
 ],
 "metadata": {
  "kernelspec": {
   "display_name": "Python 3 (ipykernel)",
   "language": "python",
   "name": "python3"
  },
  "language_info": {
   "codemirror_mode": {
    "name": "ipython",
    "version": 3
   },
   "file_extension": ".py",
   "mimetype": "text/x-python",
   "name": "python",
   "nbconvert_exporter": "python",
   "pygments_lexer": "ipython3",
   "version": "3.9.2"
  }
 },
 "nbformat": 4,
 "nbformat_minor": 5
}
