{
 "cells": [
  {
   "cell_type": "code",
   "execution_count": 1,
   "id": "0bd8e6eb-ab74-46ae-818d-5e0c831cf01c",
   "metadata": {},
   "outputs": [
    {
     "name": "stderr",
     "output_type": "stream",
     "text": [
      "/tmp/ipykernel_2258/1709361068.py:20: MatplotlibDeprecationWarning: The seaborn styles shipped by Matplotlib are deprecated since 3.6, as they no longer correspond to the styles shipped by seaborn. However, they will remain available as 'seaborn-v0_8-<style>'. Alternatively, directly use the seaborn API instead.\n",
      "  plt.style.use(\"seaborn-whitegrid\")\n"
     ]
    }
   ],
   "source": [
    "import os\n",
    "import warnings\n",
    "from pathlib import Path\n",
    "\n",
    "import matplotlib.pyplot as plt\n",
    "import numpy as np\n",
    "import pandas as pd\n",
    "import seaborn as sns\n",
    "from IPython.display import display\n",
    "from pandas.api.types import CategoricalDtype\n",
    "\n",
    "from category_encoders import MEstimateEncoder\n",
    "from sklearn.cluster import KMeans\n",
    "from sklearn.decomposition import PCA\n",
    "from sklearn.feature_selection import mutual_info_regression\n",
    "from sklearn.model_selection import KFold, cross_val_score\n",
    "from xgboost import XGBRegressor\n",
    "\n",
    "# Set Matplotlib defaults\n",
    "plt.style.use(\"seaborn-whitegrid\")\n",
    "plt.rc(\"figure\", autolayout=True)\n",
    "plt.rc(\n",
    "    \"axes\",\n",
    "    labelweight=\"bold\",\n",
    "    labelsize=\"large\",\n",
    "    titleweight=\"bold\",\n",
    "    titlesize=14,\n",
    "    titlepad=10,\n",
    ")\n",
    "\n",
    "# Mute warnings\n",
    "warnings.filterwarnings('ignore')"
   ]
  },
  {
   "cell_type": "code",
   "execution_count": 2,
   "id": "b35999e8-dae3-42fb-af91-49fb9db39f8e",
   "metadata": {},
   "outputs": [
    {
     "data": {
      "text/plain": [
       "'Data Preprocessing'"
      ]
     },
     "execution_count": 2,
     "metadata": {},
     "output_type": "execute_result"
    }
   ],
   "source": [
    "'''Data Preprocessing'''"
   ]
  },
  {
   "cell_type": "code",
   "execution_count": 3,
   "id": "7fba25c6-3ffe-48b2-be91-3ab6274f6535",
   "metadata": {},
   "outputs": [],
   "source": [
    "# Load the data from CSV files\n",
    "# Clean the data to fix any errors or inconsistencies\n",
    "# Encode the statistical data type (numeric, categorical)\n",
    "# Impute any missing values"
   ]
  },
  {
   "cell_type": "code",
   "execution_count": 4,
   "id": "be70956c-ccfe-466c-b047-be48bd08520f",
   "metadata": {},
   "outputs": [],
   "source": [
    "def load_data():\n",
    "    # Read data\n",
    "    df_train = pd.read_csv(\"/home/tebrigabby/python/data_files/train.csv\", index_col=\"Id\")\n",
    "    df_test = pd.read_csv(\"/home/tebrigabby/python/data_files/test (1).csv\", index_col=\"Id\")\n",
    "    # Merge the splits so we can process them together\n",
    "    df = pd.concat([df_train, df_test])\n",
    "    # Preprocessing\n",
    "    df = clean(df)\n",
    "    df = encode(df)\n",
    "    df = impute(df)\n",
    "    # Reform splits\n",
    "    df_train = df.loc[df_train.index, :]\n",
    "    df_test = df.loc[df_test.index, :]\n",
    "    return df_train, df_test"
   ]
  },
  {
   "cell_type": "code",
   "execution_count": 5,
   "id": "4986c7c1-b9a5-4a1c-9375-6fc0cd505949",
   "metadata": {},
   "outputs": [
    {
     "data": {
      "text/plain": [
       "array(['VinylSd', 'MetalSd', 'Wd Shng', 'HdBoard', 'Plywood', 'Wd Sdng',\n",
       "       'CmentBd', 'BrkFace', 'Stucco', 'AsbShng', 'Brk Cmn', 'ImStucc',\n",
       "       'AsphShn', 'Stone', 'Other', 'CBlock'], dtype=object)"
      ]
     },
     "execution_count": 5,
     "metadata": {},
     "output_type": "execute_result"
    }
   ],
   "source": [
    "# Clean Data¶\n",
    "# Some of the categorical features in this dataset have what are apparently typos in their categories:\n",
    "\n",
    "df = pd.read_csv(\"/home/tebrigabby/python/data_files/train.csv\", index_col=\"Id\")\n",
    "\n",
    "df.Exterior2nd.unique()"
   ]
  },
  {
   "cell_type": "code",
   "execution_count": 6,
   "id": "c9900d1c-5c56-407f-a4af-3e46c49538ff",
   "metadata": {},
   "outputs": [],
   "source": [
    "# Comparing these to data_description.txt shows us what needs cleaning. We'll take care of a couple of issues here, \n",
    "# but you might want to evaluate this data further.\n",
    "\n",
    "def clean(df):\n",
    "    df[\"Exterior2nd\"] = df[\"Exterior2nd\"].replace({\"Brk Cmn\": \"BrkComm\"})\n",
    "    # Some values of GarageYrBlt are corrupt, so we'll replace them\n",
    "    # with the year the house was built\n",
    "    df[\"GarageYrBlt\"] = df[\"GarageYrBlt\"].where(df.GarageYrBlt <= 2010, df.YearBuilt)\n",
    "    # Names beginning with numbers are awkward to work with\n",
    "    df.rename(columns={\n",
    "        \"1stFlrSF\": \"FirstFlrSF\",\n",
    "        \"2ndFlrSF\": \"SecondFlrSF\",\n",
    "        \"3SsnPorch\": \"Threeseasonporch\",\n",
    "    }, inplace=True,\n",
    "    )\n",
    "    return df"
   ]
  },
  {
   "cell_type": "code",
   "execution_count": null,
   "id": "f188b5c0-a9dc-4833-bfe3-bc8bb2c4ee3f",
   "metadata": {},
   "outputs": [],
   "source": []
  },
  {
   "cell_type": "code",
   "execution_count": 7,
   "id": "e4175c89-013e-466f-bff3-a172edbd6616",
   "metadata": {},
   "outputs": [
    {
     "data": {
      "text/plain": [
       "'Pandas has Python types corresponding to the standard statistical types (numeric, categorical, etc.). Encoding each feature with its correct type helps ensure each feature is treated appropriately by whatever functions we use, and makes it easier for us to apply transformations consistently.  '"
      ]
     },
     "execution_count": 7,
     "metadata": {},
     "output_type": "execute_result"
    }
   ],
   "source": [
    "# Encode the Statistical Data Type¶\n",
    "'''Pandas has Python types corresponding to the standard statistical types (numeric, categorical, etc.). Encoding each feature with its correct type helps ensure each feature is treated appropriately by whatever functions we use, and makes it easier for us to apply transformations consistently.  '''\n"
   ]
  },
  {
   "cell_type": "code",
   "execution_count": 8,
   "id": "4f8fb3d5-9b36-4789-924c-fffe5b182623",
   "metadata": {},
   "outputs": [],
   "source": [
    "# The numeric features are already encoded correctly (`float` for\n",
    "# continuous, `int` for discrete), but the categoricals we'll need to\n",
    "# do ourselves. Note in particular, that the `MSSubClass` feature is\n",
    "# read as an `int` type, but is actually a (nominative) categorical.\n",
    "\n",
    "# The nominative (unordered) categorical features\n",
    "features_nom = [\"MSSubClass\", \"MSZoning\", \"Street\", \"Alley\", \"LandContour\", \"LotConfig\", \"Neighborhood\", \"Condition1\", \"Condition2\", \"BldgType\", \"HouseStyle\", \"RoofStyle\", \"RoofMatl\", \"Exterior1st\", \"Exterior2nd\", \"MasVnrType\", \"Foundation\", \"Heating\", \"CentralAir\", \"GarageType\", \"MiscFeature\", \"SaleType\", \"SaleCondition\"]\n",
    "\n",
    "\n",
    "# The ordinal (ordered) categorical features \n",
    "# Pandas calls the categories \"levels\"\n",
    "five_levels = [\"Po\", \"Fa\", \"TA\", \"Gd\", \"Ex\"]\n",
    "ten_levels = list(range(10))\n",
    "\n",
    "ordered_levels = {\n",
    "    \"OverallQual\": ten_levels,\n",
    "    \"OverallCond\": ten_levels,\n",
    "    \"ExterQual\": five_levels,\n",
    "    \"ExterCond\": five_levels,\n",
    "    \"BsmtQual\": five_levels,\n",
    "    \"BsmtCond\": five_levels,\n",
    "    \"HeatingQC\": five_levels,\n",
    "    \"KitchenQual\": five_levels,\n",
    "    \"FireplaceQu\": five_levels,\n",
    "    \"GarageQual\": five_levels,\n",
    "    \"GarageCond\": five_levels,\n",
    "    \"PoolQC\": five_levels,\n",
    "    \"LotShape\": [\"Reg\", \"IR1\", \"IR2\", \"IR3\"],\n",
    "    \"LandSlope\": [\"Sev\", \"Mod\", \"Gtl\"],\n",
    "    \"BsmtExposure\": [\"No\", \"Mn\", \"Av\", \"Gd\"],\n",
    "     \"BsmtFinType1\": [\"Unf\", \"LwQ\", \"Rec\", \"BLQ\", \"ALQ\", \"GLQ\"],\n",
    "    \"BsmtFinType2\": [\"Unf\", \"LwQ\", \"Rec\", \"BLQ\", \"ALQ\", \"GLQ\"],\n",
    "    \"Functional\": [\"Sal\", \"Sev\", \"Maj1\", \"Maj2\", \"Mod\", \"Min2\", \"Min1\", \"Typ\"],\n",
    "    \"GarageFinish\": [\"Unf\", \"RFn\", \"Fin\"],\n",
    "    \"PavedDrive\": [\"N\", \"P\", \"Y\"],\n",
    "    \"Utilities\": [\"NoSeWa\", \"NoSewr\", \"AllPub\"],\n",
    "    \"CentralAir\": [\"N\", \"Y\"],\n",
    "    \"Electrical\": [\"Mix\", \"FuseP\", \"FuseF\", \"FuseA\", \"SBrkr\"],\n",
    "    \"Fence\": [\"MnWw\", \"GdWo\", \"MnPrv\", \"GdPrv\"],\n",
    "}\n",
    "\n",
    "# Add a None level for missing values\n",
    "ordered_levels = {key: [\"None\"] + value for key, value in\n",
    "                  ordered_levels.items()}\n",
    "\n",
    "\n",
    "def encode(df):\n",
    "    # Nominal categories\n",
    "    for name in features_nom:\n",
    "        df[name] = df[name].astype(\"category\")\n",
    "        # Add a None category for missing values\n",
    "        if \"None\" not in df[name].cat.categories:\n",
    "            df[name] = df[name].cat.add_categories(\"None\")\n",
    "    # Ordinal categories\n",
    "    for name, levels in ordered_levels.items():\n",
    "        df[name] = df[name].astype(CategoricalDtype(levels,\n",
    "                                                    ordered=True))\n",
    "    return df"
   ]
  },
  {
   "cell_type": "code",
   "execution_count": 9,
   "id": "75241263-c7fa-4d83-b930-1e33b32292cf",
   "metadata": {},
   "outputs": [],
   "source": [
    "# Handle Missing Values\n",
    "\n",
    "# Handling missing values now will make the feature engineering go more smoothly. We'll impute 0 for missing numeric values and \"None\" \n",
    "# for missing categorical values. You might like to experiment with other imputation strategies. In particular, you could try creating \n",
    "# \"missing value\" indicators: 1 whenever a value was imputed and 0 otherwise.\n",
    "\n",
    "def impute(df):\n",
    "    for name in df.select_dtypes(\"number\"):\n",
    "        df[name] = df[name].fillna(0)\n",
    "    for name in df.select_dtypes(\"category\"):\n",
    "        df[name] = df[name].fillna(\"None\")\n",
    "    return df"
   ]
  },
  {
   "cell_type": "code",
   "execution_count": null,
   "id": "6199becd-cda6-4f4a-9e27-0d648c125892",
   "metadata": {},
   "outputs": [],
   "source": []
  },
  {
   "cell_type": "code",
   "execution_count": 10,
   "id": "a5cdf9a0-7d29-4426-bca3-b4d154f222b9",
   "metadata": {},
   "outputs": [],
   "source": [
    "# Load Data\n",
    "# And now we can call the data loader and get the processed data splits:\n",
    "\n",
    "df_train, df_test = load_data()"
   ]
  },
  {
   "cell_type": "code",
   "execution_count": 11,
   "id": "7b0931f8-c95c-417a-8aa6-41d104eab39f",
   "metadata": {},
   "outputs": [
    {
     "data": {
      "text/html": [
       "<div>\n",
       "<style scoped>\n",
       "    .dataframe tbody tr th:only-of-type {\n",
       "        vertical-align: middle;\n",
       "    }\n",
       "\n",
       "    .dataframe tbody tr th {\n",
       "        vertical-align: top;\n",
       "    }\n",
       "\n",
       "    .dataframe thead th {\n",
       "        text-align: right;\n",
       "    }\n",
       "</style>\n",
       "<table border=\"1\" class=\"dataframe\">\n",
       "  <thead>\n",
       "    <tr style=\"text-align: right;\">\n",
       "      <th></th>\n",
       "      <th>MSSubClass</th>\n",
       "      <th>MSZoning</th>\n",
       "      <th>LotFrontage</th>\n",
       "      <th>LotArea</th>\n",
       "      <th>Street</th>\n",
       "      <th>Alley</th>\n",
       "      <th>LotShape</th>\n",
       "      <th>LandContour</th>\n",
       "      <th>Utilities</th>\n",
       "      <th>LotConfig</th>\n",
       "      <th>...</th>\n",
       "      <th>PoolArea</th>\n",
       "      <th>PoolQC</th>\n",
       "      <th>Fence</th>\n",
       "      <th>MiscFeature</th>\n",
       "      <th>MiscVal</th>\n",
       "      <th>MoSold</th>\n",
       "      <th>YrSold</th>\n",
       "      <th>SaleType</th>\n",
       "      <th>SaleCondition</th>\n",
       "      <th>SalePrice</th>\n",
       "    </tr>\n",
       "    <tr>\n",
       "      <th>Id</th>\n",
       "      <th></th>\n",
       "      <th></th>\n",
       "      <th></th>\n",
       "      <th></th>\n",
       "      <th></th>\n",
       "      <th></th>\n",
       "      <th></th>\n",
       "      <th></th>\n",
       "      <th></th>\n",
       "      <th></th>\n",
       "      <th></th>\n",
       "      <th></th>\n",
       "      <th></th>\n",
       "      <th></th>\n",
       "      <th></th>\n",
       "      <th></th>\n",
       "      <th></th>\n",
       "      <th></th>\n",
       "      <th></th>\n",
       "      <th></th>\n",
       "      <th></th>\n",
       "    </tr>\n",
       "  </thead>\n",
       "  <tbody>\n",
       "    <tr>\n",
       "      <th>1</th>\n",
       "      <td>60</td>\n",
       "      <td>RL</td>\n",
       "      <td>65.0</td>\n",
       "      <td>8450</td>\n",
       "      <td>Pave</td>\n",
       "      <td>None</td>\n",
       "      <td>Reg</td>\n",
       "      <td>Lvl</td>\n",
       "      <td>AllPub</td>\n",
       "      <td>Inside</td>\n",
       "      <td>...</td>\n",
       "      <td>0</td>\n",
       "      <td>None</td>\n",
       "      <td>None</td>\n",
       "      <td>None</td>\n",
       "      <td>0</td>\n",
       "      <td>2</td>\n",
       "      <td>2008</td>\n",
       "      <td>WD</td>\n",
       "      <td>Normal</td>\n",
       "      <td>208500.0</td>\n",
       "    </tr>\n",
       "    <tr>\n",
       "      <th>2</th>\n",
       "      <td>20</td>\n",
       "      <td>RL</td>\n",
       "      <td>80.0</td>\n",
       "      <td>9600</td>\n",
       "      <td>Pave</td>\n",
       "      <td>None</td>\n",
       "      <td>Reg</td>\n",
       "      <td>Lvl</td>\n",
       "      <td>AllPub</td>\n",
       "      <td>FR2</td>\n",
       "      <td>...</td>\n",
       "      <td>0</td>\n",
       "      <td>None</td>\n",
       "      <td>None</td>\n",
       "      <td>None</td>\n",
       "      <td>0</td>\n",
       "      <td>5</td>\n",
       "      <td>2007</td>\n",
       "      <td>WD</td>\n",
       "      <td>Normal</td>\n",
       "      <td>181500.0</td>\n",
       "    </tr>\n",
       "    <tr>\n",
       "      <th>3</th>\n",
       "      <td>60</td>\n",
       "      <td>RL</td>\n",
       "      <td>68.0</td>\n",
       "      <td>11250</td>\n",
       "      <td>Pave</td>\n",
       "      <td>None</td>\n",
       "      <td>IR1</td>\n",
       "      <td>Lvl</td>\n",
       "      <td>AllPub</td>\n",
       "      <td>Inside</td>\n",
       "      <td>...</td>\n",
       "      <td>0</td>\n",
       "      <td>None</td>\n",
       "      <td>None</td>\n",
       "      <td>None</td>\n",
       "      <td>0</td>\n",
       "      <td>9</td>\n",
       "      <td>2008</td>\n",
       "      <td>WD</td>\n",
       "      <td>Normal</td>\n",
       "      <td>223500.0</td>\n",
       "    </tr>\n",
       "    <tr>\n",
       "      <th>4</th>\n",
       "      <td>70</td>\n",
       "      <td>RL</td>\n",
       "      <td>60.0</td>\n",
       "      <td>9550</td>\n",
       "      <td>Pave</td>\n",
       "      <td>None</td>\n",
       "      <td>IR1</td>\n",
       "      <td>Lvl</td>\n",
       "      <td>AllPub</td>\n",
       "      <td>Corner</td>\n",
       "      <td>...</td>\n",
       "      <td>0</td>\n",
       "      <td>None</td>\n",
       "      <td>None</td>\n",
       "      <td>None</td>\n",
       "      <td>0</td>\n",
       "      <td>2</td>\n",
       "      <td>2006</td>\n",
       "      <td>WD</td>\n",
       "      <td>Abnorml</td>\n",
       "      <td>140000.0</td>\n",
       "    </tr>\n",
       "    <tr>\n",
       "      <th>5</th>\n",
       "      <td>60</td>\n",
       "      <td>RL</td>\n",
       "      <td>84.0</td>\n",
       "      <td>14260</td>\n",
       "      <td>Pave</td>\n",
       "      <td>None</td>\n",
       "      <td>IR1</td>\n",
       "      <td>Lvl</td>\n",
       "      <td>AllPub</td>\n",
       "      <td>FR2</td>\n",
       "      <td>...</td>\n",
       "      <td>0</td>\n",
       "      <td>None</td>\n",
       "      <td>None</td>\n",
       "      <td>None</td>\n",
       "      <td>0</td>\n",
       "      <td>12</td>\n",
       "      <td>2008</td>\n",
       "      <td>WD</td>\n",
       "      <td>Normal</td>\n",
       "      <td>250000.0</td>\n",
       "    </tr>\n",
       "    <tr>\n",
       "      <th>...</th>\n",
       "      <td>...</td>\n",
       "      <td>...</td>\n",
       "      <td>...</td>\n",
       "      <td>...</td>\n",
       "      <td>...</td>\n",
       "      <td>...</td>\n",
       "      <td>...</td>\n",
       "      <td>...</td>\n",
       "      <td>...</td>\n",
       "      <td>...</td>\n",
       "      <td>...</td>\n",
       "      <td>...</td>\n",
       "      <td>...</td>\n",
       "      <td>...</td>\n",
       "      <td>...</td>\n",
       "      <td>...</td>\n",
       "      <td>...</td>\n",
       "      <td>...</td>\n",
       "      <td>...</td>\n",
       "      <td>...</td>\n",
       "      <td>...</td>\n",
       "    </tr>\n",
       "    <tr>\n",
       "      <th>1456</th>\n",
       "      <td>60</td>\n",
       "      <td>RL</td>\n",
       "      <td>62.0</td>\n",
       "      <td>7917</td>\n",
       "      <td>Pave</td>\n",
       "      <td>None</td>\n",
       "      <td>Reg</td>\n",
       "      <td>Lvl</td>\n",
       "      <td>AllPub</td>\n",
       "      <td>Inside</td>\n",
       "      <td>...</td>\n",
       "      <td>0</td>\n",
       "      <td>None</td>\n",
       "      <td>None</td>\n",
       "      <td>None</td>\n",
       "      <td>0</td>\n",
       "      <td>8</td>\n",
       "      <td>2007</td>\n",
       "      <td>WD</td>\n",
       "      <td>Normal</td>\n",
       "      <td>175000.0</td>\n",
       "    </tr>\n",
       "    <tr>\n",
       "      <th>1457</th>\n",
       "      <td>20</td>\n",
       "      <td>RL</td>\n",
       "      <td>85.0</td>\n",
       "      <td>13175</td>\n",
       "      <td>Pave</td>\n",
       "      <td>None</td>\n",
       "      <td>Reg</td>\n",
       "      <td>Lvl</td>\n",
       "      <td>AllPub</td>\n",
       "      <td>Inside</td>\n",
       "      <td>...</td>\n",
       "      <td>0</td>\n",
       "      <td>None</td>\n",
       "      <td>MnPrv</td>\n",
       "      <td>None</td>\n",
       "      <td>0</td>\n",
       "      <td>2</td>\n",
       "      <td>2010</td>\n",
       "      <td>WD</td>\n",
       "      <td>Normal</td>\n",
       "      <td>210000.0</td>\n",
       "    </tr>\n",
       "    <tr>\n",
       "      <th>1458</th>\n",
       "      <td>70</td>\n",
       "      <td>RL</td>\n",
       "      <td>66.0</td>\n",
       "      <td>9042</td>\n",
       "      <td>Pave</td>\n",
       "      <td>None</td>\n",
       "      <td>Reg</td>\n",
       "      <td>Lvl</td>\n",
       "      <td>AllPub</td>\n",
       "      <td>Inside</td>\n",
       "      <td>...</td>\n",
       "      <td>0</td>\n",
       "      <td>None</td>\n",
       "      <td>GdPrv</td>\n",
       "      <td>Shed</td>\n",
       "      <td>2500</td>\n",
       "      <td>5</td>\n",
       "      <td>2010</td>\n",
       "      <td>WD</td>\n",
       "      <td>Normal</td>\n",
       "      <td>266500.0</td>\n",
       "    </tr>\n",
       "    <tr>\n",
       "      <th>1459</th>\n",
       "      <td>20</td>\n",
       "      <td>RL</td>\n",
       "      <td>68.0</td>\n",
       "      <td>9717</td>\n",
       "      <td>Pave</td>\n",
       "      <td>None</td>\n",
       "      <td>Reg</td>\n",
       "      <td>Lvl</td>\n",
       "      <td>AllPub</td>\n",
       "      <td>Inside</td>\n",
       "      <td>...</td>\n",
       "      <td>0</td>\n",
       "      <td>None</td>\n",
       "      <td>None</td>\n",
       "      <td>None</td>\n",
       "      <td>0</td>\n",
       "      <td>4</td>\n",
       "      <td>2010</td>\n",
       "      <td>WD</td>\n",
       "      <td>Normal</td>\n",
       "      <td>142125.0</td>\n",
       "    </tr>\n",
       "    <tr>\n",
       "      <th>1460</th>\n",
       "      <td>20</td>\n",
       "      <td>RL</td>\n",
       "      <td>75.0</td>\n",
       "      <td>9937</td>\n",
       "      <td>Pave</td>\n",
       "      <td>None</td>\n",
       "      <td>Reg</td>\n",
       "      <td>Lvl</td>\n",
       "      <td>AllPub</td>\n",
       "      <td>Inside</td>\n",
       "      <td>...</td>\n",
       "      <td>0</td>\n",
       "      <td>None</td>\n",
       "      <td>None</td>\n",
       "      <td>None</td>\n",
       "      <td>0</td>\n",
       "      <td>6</td>\n",
       "      <td>2008</td>\n",
       "      <td>WD</td>\n",
       "      <td>Normal</td>\n",
       "      <td>147500.0</td>\n",
       "    </tr>\n",
       "  </tbody>\n",
       "</table>\n",
       "<p>1460 rows × 80 columns</p>\n",
       "</div>"
      ],
      "text/plain": [
       "     MSSubClass MSZoning  LotFrontage  LotArea Street Alley LotShape  \\\n",
       "Id                                                                     \n",
       "1            60       RL         65.0     8450   Pave  None      Reg   \n",
       "2            20       RL         80.0     9600   Pave  None      Reg   \n",
       "3            60       RL         68.0    11250   Pave  None      IR1   \n",
       "4            70       RL         60.0     9550   Pave  None      IR1   \n",
       "5            60       RL         84.0    14260   Pave  None      IR1   \n",
       "...         ...      ...          ...      ...    ...   ...      ...   \n",
       "1456         60       RL         62.0     7917   Pave  None      Reg   \n",
       "1457         20       RL         85.0    13175   Pave  None      Reg   \n",
       "1458         70       RL         66.0     9042   Pave  None      Reg   \n",
       "1459         20       RL         68.0     9717   Pave  None      Reg   \n",
       "1460         20       RL         75.0     9937   Pave  None      Reg   \n",
       "\n",
       "     LandContour Utilities LotConfig  ... PoolArea PoolQC  Fence MiscFeature  \\\n",
       "Id                                    ...                                      \n",
       "1            Lvl    AllPub    Inside  ...        0   None   None        None   \n",
       "2            Lvl    AllPub       FR2  ...        0   None   None        None   \n",
       "3            Lvl    AllPub    Inside  ...        0   None   None        None   \n",
       "4            Lvl    AllPub    Corner  ...        0   None   None        None   \n",
       "5            Lvl    AllPub       FR2  ...        0   None   None        None   \n",
       "...          ...       ...       ...  ...      ...    ...    ...         ...   \n",
       "1456         Lvl    AllPub    Inside  ...        0   None   None        None   \n",
       "1457         Lvl    AllPub    Inside  ...        0   None  MnPrv        None   \n",
       "1458         Lvl    AllPub    Inside  ...        0   None  GdPrv        Shed   \n",
       "1459         Lvl    AllPub    Inside  ...        0   None   None        None   \n",
       "1460         Lvl    AllPub    Inside  ...        0   None   None        None   \n",
       "\n",
       "     MiscVal MoSold YrSold SaleType  SaleCondition  SalePrice  \n",
       "Id                                                             \n",
       "1          0      2   2008       WD         Normal   208500.0  \n",
       "2          0      5   2007       WD         Normal   181500.0  \n",
       "3          0      9   2008       WD         Normal   223500.0  \n",
       "4          0      2   2006       WD        Abnorml   140000.0  \n",
       "5          0     12   2008       WD         Normal   250000.0  \n",
       "...      ...    ...    ...      ...            ...        ...  \n",
       "1456       0      8   2007       WD         Normal   175000.0  \n",
       "1457       0      2   2010       WD         Normal   210000.0  \n",
       "1458    2500      5   2010       WD         Normal   266500.0  \n",
       "1459       0      4   2010       WD         Normal   142125.0  \n",
       "1460       0      6   2008       WD         Normal   147500.0  \n",
       "\n",
       "[1460 rows x 80 columns]"
      ]
     },
     "metadata": {},
     "output_type": "display_data"
    },
    {
     "data": {
      "text/html": [
       "<div>\n",
       "<style scoped>\n",
       "    .dataframe tbody tr th:only-of-type {\n",
       "        vertical-align: middle;\n",
       "    }\n",
       "\n",
       "    .dataframe tbody tr th {\n",
       "        vertical-align: top;\n",
       "    }\n",
       "\n",
       "    .dataframe thead th {\n",
       "        text-align: right;\n",
       "    }\n",
       "</style>\n",
       "<table border=\"1\" class=\"dataframe\">\n",
       "  <thead>\n",
       "    <tr style=\"text-align: right;\">\n",
       "      <th></th>\n",
       "      <th>MSSubClass</th>\n",
       "      <th>MSZoning</th>\n",
       "      <th>LotFrontage</th>\n",
       "      <th>LotArea</th>\n",
       "      <th>Street</th>\n",
       "      <th>Alley</th>\n",
       "      <th>LotShape</th>\n",
       "      <th>LandContour</th>\n",
       "      <th>Utilities</th>\n",
       "      <th>LotConfig</th>\n",
       "      <th>...</th>\n",
       "      <th>PoolArea</th>\n",
       "      <th>PoolQC</th>\n",
       "      <th>Fence</th>\n",
       "      <th>MiscFeature</th>\n",
       "      <th>MiscVal</th>\n",
       "      <th>MoSold</th>\n",
       "      <th>YrSold</th>\n",
       "      <th>SaleType</th>\n",
       "      <th>SaleCondition</th>\n",
       "      <th>SalePrice</th>\n",
       "    </tr>\n",
       "    <tr>\n",
       "      <th>Id</th>\n",
       "      <th></th>\n",
       "      <th></th>\n",
       "      <th></th>\n",
       "      <th></th>\n",
       "      <th></th>\n",
       "      <th></th>\n",
       "      <th></th>\n",
       "      <th></th>\n",
       "      <th></th>\n",
       "      <th></th>\n",
       "      <th></th>\n",
       "      <th></th>\n",
       "      <th></th>\n",
       "      <th></th>\n",
       "      <th></th>\n",
       "      <th></th>\n",
       "      <th></th>\n",
       "      <th></th>\n",
       "      <th></th>\n",
       "      <th></th>\n",
       "      <th></th>\n",
       "    </tr>\n",
       "  </thead>\n",
       "  <tbody>\n",
       "    <tr>\n",
       "      <th>1461</th>\n",
       "      <td>20</td>\n",
       "      <td>RH</td>\n",
       "      <td>80.0</td>\n",
       "      <td>11622</td>\n",
       "      <td>Pave</td>\n",
       "      <td>None</td>\n",
       "      <td>Reg</td>\n",
       "      <td>Lvl</td>\n",
       "      <td>AllPub</td>\n",
       "      <td>Inside</td>\n",
       "      <td>...</td>\n",
       "      <td>0</td>\n",
       "      <td>None</td>\n",
       "      <td>MnPrv</td>\n",
       "      <td>None</td>\n",
       "      <td>0</td>\n",
       "      <td>6</td>\n",
       "      <td>2010</td>\n",
       "      <td>WD</td>\n",
       "      <td>Normal</td>\n",
       "      <td>0.0</td>\n",
       "    </tr>\n",
       "    <tr>\n",
       "      <th>1462</th>\n",
       "      <td>20</td>\n",
       "      <td>RL</td>\n",
       "      <td>81.0</td>\n",
       "      <td>14267</td>\n",
       "      <td>Pave</td>\n",
       "      <td>None</td>\n",
       "      <td>IR1</td>\n",
       "      <td>Lvl</td>\n",
       "      <td>AllPub</td>\n",
       "      <td>Corner</td>\n",
       "      <td>...</td>\n",
       "      <td>0</td>\n",
       "      <td>None</td>\n",
       "      <td>None</td>\n",
       "      <td>Gar2</td>\n",
       "      <td>12500</td>\n",
       "      <td>6</td>\n",
       "      <td>2010</td>\n",
       "      <td>WD</td>\n",
       "      <td>Normal</td>\n",
       "      <td>0.0</td>\n",
       "    </tr>\n",
       "    <tr>\n",
       "      <th>1463</th>\n",
       "      <td>60</td>\n",
       "      <td>RL</td>\n",
       "      <td>74.0</td>\n",
       "      <td>13830</td>\n",
       "      <td>Pave</td>\n",
       "      <td>None</td>\n",
       "      <td>IR1</td>\n",
       "      <td>Lvl</td>\n",
       "      <td>AllPub</td>\n",
       "      <td>Inside</td>\n",
       "      <td>...</td>\n",
       "      <td>0</td>\n",
       "      <td>None</td>\n",
       "      <td>MnPrv</td>\n",
       "      <td>None</td>\n",
       "      <td>0</td>\n",
       "      <td>3</td>\n",
       "      <td>2010</td>\n",
       "      <td>WD</td>\n",
       "      <td>Normal</td>\n",
       "      <td>0.0</td>\n",
       "    </tr>\n",
       "    <tr>\n",
       "      <th>1464</th>\n",
       "      <td>60</td>\n",
       "      <td>RL</td>\n",
       "      <td>78.0</td>\n",
       "      <td>9978</td>\n",
       "      <td>Pave</td>\n",
       "      <td>None</td>\n",
       "      <td>IR1</td>\n",
       "      <td>Lvl</td>\n",
       "      <td>AllPub</td>\n",
       "      <td>Inside</td>\n",
       "      <td>...</td>\n",
       "      <td>0</td>\n",
       "      <td>None</td>\n",
       "      <td>None</td>\n",
       "      <td>None</td>\n",
       "      <td>0</td>\n",
       "      <td>6</td>\n",
       "      <td>2010</td>\n",
       "      <td>WD</td>\n",
       "      <td>Normal</td>\n",
       "      <td>0.0</td>\n",
       "    </tr>\n",
       "    <tr>\n",
       "      <th>1465</th>\n",
       "      <td>120</td>\n",
       "      <td>RL</td>\n",
       "      <td>43.0</td>\n",
       "      <td>5005</td>\n",
       "      <td>Pave</td>\n",
       "      <td>None</td>\n",
       "      <td>IR1</td>\n",
       "      <td>HLS</td>\n",
       "      <td>AllPub</td>\n",
       "      <td>Inside</td>\n",
       "      <td>...</td>\n",
       "      <td>0</td>\n",
       "      <td>None</td>\n",
       "      <td>None</td>\n",
       "      <td>None</td>\n",
       "      <td>0</td>\n",
       "      <td>1</td>\n",
       "      <td>2010</td>\n",
       "      <td>WD</td>\n",
       "      <td>Normal</td>\n",
       "      <td>0.0</td>\n",
       "    </tr>\n",
       "    <tr>\n",
       "      <th>...</th>\n",
       "      <td>...</td>\n",
       "      <td>...</td>\n",
       "      <td>...</td>\n",
       "      <td>...</td>\n",
       "      <td>...</td>\n",
       "      <td>...</td>\n",
       "      <td>...</td>\n",
       "      <td>...</td>\n",
       "      <td>...</td>\n",
       "      <td>...</td>\n",
       "      <td>...</td>\n",
       "      <td>...</td>\n",
       "      <td>...</td>\n",
       "      <td>...</td>\n",
       "      <td>...</td>\n",
       "      <td>...</td>\n",
       "      <td>...</td>\n",
       "      <td>...</td>\n",
       "      <td>...</td>\n",
       "      <td>...</td>\n",
       "      <td>...</td>\n",
       "    </tr>\n",
       "    <tr>\n",
       "      <th>2915</th>\n",
       "      <td>160</td>\n",
       "      <td>RM</td>\n",
       "      <td>21.0</td>\n",
       "      <td>1936</td>\n",
       "      <td>Pave</td>\n",
       "      <td>None</td>\n",
       "      <td>Reg</td>\n",
       "      <td>Lvl</td>\n",
       "      <td>AllPub</td>\n",
       "      <td>Inside</td>\n",
       "      <td>...</td>\n",
       "      <td>0</td>\n",
       "      <td>None</td>\n",
       "      <td>None</td>\n",
       "      <td>None</td>\n",
       "      <td>0</td>\n",
       "      <td>6</td>\n",
       "      <td>2006</td>\n",
       "      <td>WD</td>\n",
       "      <td>Normal</td>\n",
       "      <td>0.0</td>\n",
       "    </tr>\n",
       "    <tr>\n",
       "      <th>2916</th>\n",
       "      <td>160</td>\n",
       "      <td>RM</td>\n",
       "      <td>21.0</td>\n",
       "      <td>1894</td>\n",
       "      <td>Pave</td>\n",
       "      <td>None</td>\n",
       "      <td>Reg</td>\n",
       "      <td>Lvl</td>\n",
       "      <td>AllPub</td>\n",
       "      <td>Inside</td>\n",
       "      <td>...</td>\n",
       "      <td>0</td>\n",
       "      <td>None</td>\n",
       "      <td>None</td>\n",
       "      <td>None</td>\n",
       "      <td>0</td>\n",
       "      <td>4</td>\n",
       "      <td>2006</td>\n",
       "      <td>WD</td>\n",
       "      <td>Abnorml</td>\n",
       "      <td>0.0</td>\n",
       "    </tr>\n",
       "    <tr>\n",
       "      <th>2917</th>\n",
       "      <td>20</td>\n",
       "      <td>RL</td>\n",
       "      <td>160.0</td>\n",
       "      <td>20000</td>\n",
       "      <td>Pave</td>\n",
       "      <td>None</td>\n",
       "      <td>Reg</td>\n",
       "      <td>Lvl</td>\n",
       "      <td>AllPub</td>\n",
       "      <td>Inside</td>\n",
       "      <td>...</td>\n",
       "      <td>0</td>\n",
       "      <td>None</td>\n",
       "      <td>None</td>\n",
       "      <td>None</td>\n",
       "      <td>0</td>\n",
       "      <td>9</td>\n",
       "      <td>2006</td>\n",
       "      <td>WD</td>\n",
       "      <td>Abnorml</td>\n",
       "      <td>0.0</td>\n",
       "    </tr>\n",
       "    <tr>\n",
       "      <th>2918</th>\n",
       "      <td>85</td>\n",
       "      <td>RL</td>\n",
       "      <td>62.0</td>\n",
       "      <td>10441</td>\n",
       "      <td>Pave</td>\n",
       "      <td>None</td>\n",
       "      <td>Reg</td>\n",
       "      <td>Lvl</td>\n",
       "      <td>AllPub</td>\n",
       "      <td>Inside</td>\n",
       "      <td>...</td>\n",
       "      <td>0</td>\n",
       "      <td>None</td>\n",
       "      <td>MnPrv</td>\n",
       "      <td>Shed</td>\n",
       "      <td>700</td>\n",
       "      <td>7</td>\n",
       "      <td>2006</td>\n",
       "      <td>WD</td>\n",
       "      <td>Normal</td>\n",
       "      <td>0.0</td>\n",
       "    </tr>\n",
       "    <tr>\n",
       "      <th>2919</th>\n",
       "      <td>60</td>\n",
       "      <td>RL</td>\n",
       "      <td>74.0</td>\n",
       "      <td>9627</td>\n",
       "      <td>Pave</td>\n",
       "      <td>None</td>\n",
       "      <td>Reg</td>\n",
       "      <td>Lvl</td>\n",
       "      <td>AllPub</td>\n",
       "      <td>Inside</td>\n",
       "      <td>...</td>\n",
       "      <td>0</td>\n",
       "      <td>None</td>\n",
       "      <td>None</td>\n",
       "      <td>None</td>\n",
       "      <td>0</td>\n",
       "      <td>11</td>\n",
       "      <td>2006</td>\n",
       "      <td>WD</td>\n",
       "      <td>Normal</td>\n",
       "      <td>0.0</td>\n",
       "    </tr>\n",
       "  </tbody>\n",
       "</table>\n",
       "<p>1459 rows × 80 columns</p>\n",
       "</div>"
      ],
      "text/plain": [
       "     MSSubClass MSZoning  LotFrontage  LotArea Street Alley LotShape  \\\n",
       "Id                                                                     \n",
       "1461         20       RH         80.0    11622   Pave  None      Reg   \n",
       "1462         20       RL         81.0    14267   Pave  None      IR1   \n",
       "1463         60       RL         74.0    13830   Pave  None      IR1   \n",
       "1464         60       RL         78.0     9978   Pave  None      IR1   \n",
       "1465        120       RL         43.0     5005   Pave  None      IR1   \n",
       "...         ...      ...          ...      ...    ...   ...      ...   \n",
       "2915        160       RM         21.0     1936   Pave  None      Reg   \n",
       "2916        160       RM         21.0     1894   Pave  None      Reg   \n",
       "2917         20       RL        160.0    20000   Pave  None      Reg   \n",
       "2918         85       RL         62.0    10441   Pave  None      Reg   \n",
       "2919         60       RL         74.0     9627   Pave  None      Reg   \n",
       "\n",
       "     LandContour Utilities LotConfig  ... PoolArea PoolQC  Fence MiscFeature  \\\n",
       "Id                                    ...                                      \n",
       "1461         Lvl    AllPub    Inside  ...        0   None  MnPrv        None   \n",
       "1462         Lvl    AllPub    Corner  ...        0   None   None        Gar2   \n",
       "1463         Lvl    AllPub    Inside  ...        0   None  MnPrv        None   \n",
       "1464         Lvl    AllPub    Inside  ...        0   None   None        None   \n",
       "1465         HLS    AllPub    Inside  ...        0   None   None        None   \n",
       "...          ...       ...       ...  ...      ...    ...    ...         ...   \n",
       "2915         Lvl    AllPub    Inside  ...        0   None   None        None   \n",
       "2916         Lvl    AllPub    Inside  ...        0   None   None        None   \n",
       "2917         Lvl    AllPub    Inside  ...        0   None   None        None   \n",
       "2918         Lvl    AllPub    Inside  ...        0   None  MnPrv        Shed   \n",
       "2919         Lvl    AllPub    Inside  ...        0   None   None        None   \n",
       "\n",
       "     MiscVal MoSold YrSold SaleType  SaleCondition  SalePrice  \n",
       "Id                                                             \n",
       "1461       0      6   2010       WD         Normal        0.0  \n",
       "1462   12500      6   2010       WD         Normal        0.0  \n",
       "1463       0      3   2010       WD         Normal        0.0  \n",
       "1464       0      6   2010       WD         Normal        0.0  \n",
       "1465       0      1   2010       WD         Normal        0.0  \n",
       "...      ...    ...    ...      ...            ...        ...  \n",
       "2915       0      6   2006       WD         Normal        0.0  \n",
       "2916       0      4   2006       WD        Abnorml        0.0  \n",
       "2917       0      9   2006       WD        Abnorml        0.0  \n",
       "2918     700      7   2006       WD         Normal        0.0  \n",
       "2919       0     11   2006       WD         Normal        0.0  \n",
       "\n",
       "[1459 rows x 80 columns]"
      ]
     },
     "metadata": {},
     "output_type": "display_data"
    }
   ],
   "source": [
    "# Peek at the values\n",
    "display(df_train)\n",
    "display(df_test)"
   ]
  },
  {
   "cell_type": "code",
   "execution_count": 12,
   "id": "ff249618-d970-45ad-be56-f35719a78b7b",
   "metadata": {},
   "outputs": [
    {
     "name": "stdout",
     "output_type": "stream",
     "text": [
      "<class 'pandas.core.frame.DataFrame'>\n",
      "Index: 1460 entries, 1 to 1460\n",
      "Data columns (total 80 columns):\n",
      " #   Column            Non-Null Count  Dtype   \n",
      "---  ------            --------------  -----   \n",
      " 0   MSSubClass        1460 non-null   category\n",
      " 1   MSZoning          1460 non-null   category\n",
      " 2   LotFrontage       1460 non-null   float64 \n",
      " 3   LotArea           1460 non-null   int64   \n",
      " 4   Street            1460 non-null   category\n",
      " 5   Alley             1460 non-null   category\n",
      " 6   LotShape          1460 non-null   category\n",
      " 7   LandContour       1460 non-null   category\n",
      " 8   Utilities         1460 non-null   category\n",
      " 9   LotConfig         1460 non-null   category\n",
      " 10  LandSlope         1460 non-null   category\n",
      " 11  Neighborhood      1460 non-null   category\n",
      " 12  Condition1        1460 non-null   category\n",
      " 13  Condition2        1460 non-null   category\n",
      " 14  BldgType          1460 non-null   category\n",
      " 15  HouseStyle        1460 non-null   category\n",
      " 16  OverallQual       1460 non-null   category\n",
      " 17  OverallCond       1460 non-null   category\n",
      " 18  YearBuilt         1460 non-null   int64   \n",
      " 19  YearRemodAdd      1460 non-null   int64   \n",
      " 20  RoofStyle         1460 non-null   category\n",
      " 21  RoofMatl          1460 non-null   category\n",
      " 22  Exterior1st       1460 non-null   category\n",
      " 23  Exterior2nd       1460 non-null   category\n",
      " 24  MasVnrType        1460 non-null   category\n",
      " 25  MasVnrArea        1460 non-null   float64 \n",
      " 26  ExterQual         1460 non-null   category\n",
      " 27  ExterCond         1460 non-null   category\n",
      " 28  Foundation        1460 non-null   category\n",
      " 29  BsmtQual          1460 non-null   category\n",
      " 30  BsmtCond          1460 non-null   category\n",
      " 31  BsmtExposure      1460 non-null   category\n",
      " 32  BsmtFinType1      1460 non-null   category\n",
      " 33  BsmtFinSF1        1460 non-null   float64 \n",
      " 34  BsmtFinType2      1460 non-null   category\n",
      " 35  BsmtFinSF2        1460 non-null   float64 \n",
      " 36  BsmtUnfSF         1460 non-null   float64 \n",
      " 37  TotalBsmtSF       1460 non-null   float64 \n",
      " 38  Heating           1460 non-null   category\n",
      " 39  HeatingQC         1460 non-null   category\n",
      " 40  CentralAir        1460 non-null   category\n",
      " 41  Electrical        1460 non-null   category\n",
      " 42  FirstFlrSF        1460 non-null   int64   \n",
      " 43  SecondFlrSF       1460 non-null   int64   \n",
      " 44  LowQualFinSF      1460 non-null   int64   \n",
      " 45  GrLivArea         1460 non-null   int64   \n",
      " 46  BsmtFullBath      1460 non-null   float64 \n",
      " 47  BsmtHalfBath      1460 non-null   float64 \n",
      " 48  FullBath          1460 non-null   int64   \n",
      " 49  HalfBath          1460 non-null   int64   \n",
      " 50  BedroomAbvGr      1460 non-null   int64   \n",
      " 51  KitchenAbvGr      1460 non-null   int64   \n",
      " 52  KitchenQual       1460 non-null   category\n",
      " 53  TotRmsAbvGrd      1460 non-null   int64   \n",
      " 54  Functional        1460 non-null   category\n",
      " 55  Fireplaces        1460 non-null   int64   \n",
      " 56  FireplaceQu       1460 non-null   category\n",
      " 57  GarageType        1460 non-null   category\n",
      " 58  GarageYrBlt       1460 non-null   float64 \n",
      " 59  GarageFinish      1460 non-null   category\n",
      " 60  GarageCars        1460 non-null   float64 \n",
      " 61  GarageArea        1460 non-null   float64 \n",
      " 62  GarageQual        1460 non-null   category\n",
      " 63  GarageCond        1460 non-null   category\n",
      " 64  PavedDrive        1460 non-null   category\n",
      " 65  WoodDeckSF        1460 non-null   int64   \n",
      " 66  OpenPorchSF       1460 non-null   int64   \n",
      " 67  EnclosedPorch     1460 non-null   int64   \n",
      " 68  Threeseasonporch  1460 non-null   int64   \n",
      " 69  ScreenPorch       1460 non-null   int64   \n",
      " 70  PoolArea          1460 non-null   int64   \n",
      " 71  PoolQC            1460 non-null   category\n",
      " 72  Fence             1460 non-null   category\n",
      " 73  MiscFeature       1460 non-null   category\n",
      " 74  MiscVal           1460 non-null   int64   \n",
      " 75  MoSold            1460 non-null   int64   \n",
      " 76  YrSold            1460 non-null   int64   \n",
      " 77  SaleType          1460 non-null   category\n",
      " 78  SaleCondition     1460 non-null   category\n",
      " 79  SalePrice         1460 non-null   float64 \n",
      "dtypes: category(46), float64(12), int64(22)\n",
      "memory usage: 478.9 KB\n"
     ]
    },
    {
     "data": {
      "text/plain": [
       "None"
      ]
     },
     "metadata": {},
     "output_type": "display_data"
    },
    {
     "name": "stdout",
     "output_type": "stream",
     "text": [
      "<class 'pandas.core.frame.DataFrame'>\n",
      "Index: 1459 entries, 1461 to 2919\n",
      "Data columns (total 80 columns):\n",
      " #   Column            Non-Null Count  Dtype   \n",
      "---  ------            --------------  -----   \n",
      " 0   MSSubClass        1459 non-null   category\n",
      " 1   MSZoning          1459 non-null   category\n",
      " 2   LotFrontage       1459 non-null   float64 \n",
      " 3   LotArea           1459 non-null   int64   \n",
      " 4   Street            1459 non-null   category\n",
      " 5   Alley             1459 non-null   category\n",
      " 6   LotShape          1459 non-null   category\n",
      " 7   LandContour       1459 non-null   category\n",
      " 8   Utilities         1459 non-null   category\n",
      " 9   LotConfig         1459 non-null   category\n",
      " 10  LandSlope         1459 non-null   category\n",
      " 11  Neighborhood      1459 non-null   category\n",
      " 12  Condition1        1459 non-null   category\n",
      " 13  Condition2        1459 non-null   category\n",
      " 14  BldgType          1459 non-null   category\n",
      " 15  HouseStyle        1459 non-null   category\n",
      " 16  OverallQual       1459 non-null   category\n",
      " 17  OverallCond       1459 non-null   category\n",
      " 18  YearBuilt         1459 non-null   int64   \n",
      " 19  YearRemodAdd      1459 non-null   int64   \n",
      " 20  RoofStyle         1459 non-null   category\n",
      " 21  RoofMatl          1459 non-null   category\n",
      " 22  Exterior1st       1459 non-null   category\n",
      " 23  Exterior2nd       1459 non-null   category\n",
      " 24  MasVnrType        1459 non-null   category\n",
      " 25  MasVnrArea        1459 non-null   float64 \n",
      " 26  ExterQual         1459 non-null   category\n",
      " 27  ExterCond         1459 non-null   category\n",
      " 28  Foundation        1459 non-null   category\n",
      " 29  BsmtQual          1459 non-null   category\n",
      " 30  BsmtCond          1459 non-null   category\n",
      " 31  BsmtExposure      1459 non-null   category\n",
      " 32  BsmtFinType1      1459 non-null   category\n",
      " 33  BsmtFinSF1        1459 non-null   float64 \n",
      " 34  BsmtFinType2      1459 non-null   category\n",
      " 35  BsmtFinSF2        1459 non-null   float64 \n",
      " 36  BsmtUnfSF         1459 non-null   float64 \n",
      " 37  TotalBsmtSF       1459 non-null   float64 \n",
      " 38  Heating           1459 non-null   category\n",
      " 39  HeatingQC         1459 non-null   category\n",
      " 40  CentralAir        1459 non-null   category\n",
      " 41  Electrical        1459 non-null   category\n",
      " 42  FirstFlrSF        1459 non-null   int64   \n",
      " 43  SecondFlrSF       1459 non-null   int64   \n",
      " 44  LowQualFinSF      1459 non-null   int64   \n",
      " 45  GrLivArea         1459 non-null   int64   \n",
      " 46  BsmtFullBath      1459 non-null   float64 \n",
      " 47  BsmtHalfBath      1459 non-null   float64 \n",
      " 48  FullBath          1459 non-null   int64   \n",
      " 49  HalfBath          1459 non-null   int64   \n",
      " 50  BedroomAbvGr      1459 non-null   int64   \n",
      " 51  KitchenAbvGr      1459 non-null   int64   \n",
      " 52  KitchenQual       1459 non-null   category\n",
      " 53  TotRmsAbvGrd      1459 non-null   int64   \n",
      " 54  Functional        1459 non-null   category\n",
      " 55  Fireplaces        1459 non-null   int64   \n",
      " 56  FireplaceQu       1459 non-null   category\n",
      " 57  GarageType        1459 non-null   category\n",
      " 58  GarageYrBlt       1459 non-null   float64 \n",
      " 59  GarageFinish      1459 non-null   category\n",
      " 60  GarageCars        1459 non-null   float64 \n",
      " 61  GarageArea        1459 non-null   float64 \n",
      " 62  GarageQual        1459 non-null   category\n",
      " 63  GarageCond        1459 non-null   category\n",
      " 64  PavedDrive        1459 non-null   category\n",
      " 65  WoodDeckSF        1459 non-null   int64   \n",
      " 66  OpenPorchSF       1459 non-null   int64   \n",
      " 67  EnclosedPorch     1459 non-null   int64   \n",
      " 68  Threeseasonporch  1459 non-null   int64   \n",
      " 69  ScreenPorch       1459 non-null   int64   \n",
      " 70  PoolArea          1459 non-null   int64   \n",
      " 71  PoolQC            1459 non-null   category\n",
      " 72  Fence             1459 non-null   category\n",
      " 73  MiscFeature       1459 non-null   category\n",
      " 74  MiscVal           1459 non-null   int64   \n",
      " 75  MoSold            1459 non-null   int64   \n",
      " 76  YrSold            1459 non-null   int64   \n",
      " 77  SaleType          1459 non-null   category\n",
      " 78  SaleCondition     1459 non-null   category\n",
      " 79  SalePrice         1459 non-null   float64 \n",
      "dtypes: category(46), float64(12), int64(22)\n",
      "memory usage: 478.6 KB\n"
     ]
    },
    {
     "data": {
      "text/plain": [
       "None"
      ]
     },
     "metadata": {},
     "output_type": "display_data"
    }
   ],
   "source": [
    "# Display information about dtypes and missing values\n",
    "display(df_train.info())\n",
    "display(df_test.info())"
   ]
  },
  {
   "cell_type": "code",
   "execution_count": 13,
   "id": "48e9df6e-7e0c-48f7-8a66-19a34202630f",
   "metadata": {},
   "outputs": [
    {
     "data": {
      "text/plain": [
       "\"Notice that df_test is missing values for SalePrice. (NAs were willed with 0's in the imputation step.)\""
      ]
     },
     "execution_count": 13,
     "metadata": {},
     "output_type": "execute_result"
    }
   ],
   "source": [
    "'''Notice that df_test is missing values for SalePrice. (NAs were willed with 0's in the imputation step.)'''"
   ]
  },
  {
   "cell_type": "code",
   "execution_count": 14,
   "id": "9d1be3a2-7ebd-41d4-8931-e31b71b8e8b4",
   "metadata": {},
   "outputs": [],
   "source": [
    "'''Establish Baseline'''\n",
    "# Finally, let's establish a baseline score to judge our feature engineering against.\n",
    "# Here is the function that will compute the cross-validated RMSLE score for a feature set. \n",
    "# We've used XGBoost for our model, but you might want to experiment with other models.\n",
    "\n",
    "def score_dataset(X, y, model=XGBRegressor()):\n",
    "    # Label encoding for categoricals\n",
    "    #\n",
    "    # Label encoding is good for XGBoost and RandomForest, but one-hot\n",
    "    # would be better for models like Lasso or Ridge. The `cat.codes`\n",
    "    # attribute holds the category levels.\n",
    "    for colname in X.select_dtypes([\"category\"]):\n",
    "        X[colname] = X[colname].cat.codes\n",
    "    # Metric for Housing competition is RMSLE (Root Mean Squared Log Error)\n",
    "    log_y = np.log(y)\n",
    "    score = cross_val_score(\n",
    "        model, X, log_y, cv=5, scoring=\"neg_mean_squared_error\",\n",
    "    )\n",
    "    score = -1 * score.mean()\n",
    "    score = np.sqrt(score)\n",
    "    return score"
   ]
  },
  {
   "cell_type": "code",
   "execution_count": 15,
   "id": "adf31f6e-9d13-4f6f-8d90-2ad03989f4cd",
   "metadata": {},
   "outputs": [
    {
     "name": "stdout",
     "output_type": "stream",
     "text": [
      "Baseline score: 0.14302 RMSLE\n"
     ]
    }
   ],
   "source": [
    "# We can reuse this scoring function anytime we want to try out a new feature set. We'll run it now on the processed data with no \n",
    "# additional features and get a baseline score:\n",
    "\n",
    "X = df_train.copy()\n",
    "y = X.pop(\"SalePrice\")\n",
    "\n",
    "baseline_score = score_dataset(X, y)\n",
    "print(f\"Baseline score: {baseline_score:.5f} RMSLE\")"
   ]
  },
  {
   "cell_type": "code",
   "execution_count": 16,
   "id": "75ec52df-7724-4b7b-ab0d-03c17d602dd6",
   "metadata": {},
   "outputs": [
    {
     "data": {
      "text/plain": [
       "\"This baseline score helps us to know whether some set of features we've assembled has actually led to any improvement or not.\""
      ]
     },
     "execution_count": 16,
     "metadata": {},
     "output_type": "execute_result"
    }
   ],
   "source": [
    "'''This baseline score helps us to know whether some set of features we've assembled has actually led to any improvement or not.'''"
   ]
  },
  {
   "cell_type": "code",
   "execution_count": null,
   "id": "23107ceb-81ec-4c43-bbf3-a629a978da7b",
   "metadata": {},
   "outputs": [],
   "source": []
  },
  {
   "cell_type": "code",
   "execution_count": null,
   "id": "38f0149a-ce50-4c78-8677-10a4bd1a2f59",
   "metadata": {},
   "outputs": [],
   "source": []
  },
  {
   "cell_type": "code",
   "execution_count": 17,
   "id": "ec0d7c8d-7bc0-4b05-b7ed-b956c19e2862",
   "metadata": {},
   "outputs": [
    {
     "data": {
      "text/plain": [
       "'Step 2 - Feature Utility Scores'"
      ]
     },
     "execution_count": 17,
     "metadata": {},
     "output_type": "execute_result"
    }
   ],
   "source": [
    "'''Step 2 - Feature Utility Scores'''"
   ]
  },
  {
   "cell_type": "code",
   "execution_count": 18,
   "id": "0f4db451-249c-4e61-8596-bad78757acf0",
   "metadata": {},
   "outputs": [
    {
     "data": {
      "text/plain": [
       "'In Lesson 2 we saw how to use mutual information to compute a utility score for a feature, giving you an indication of how much potential the feature has. This hidden cell defines the two utility functions we used, make_mi_scores and plot_mi_scores:'"
      ]
     },
     "execution_count": 18,
     "metadata": {},
     "output_type": "execute_result"
    }
   ],
   "source": [
    "'''In Lesson 2 we saw how to use mutual information to compute a utility score for a feature, giving you an indication of how much potential the feature has. This hidden cell defines the two utility functions we used, make_mi_scores and plot_mi_scores:'''"
   ]
  },
  {
   "cell_type": "code",
   "execution_count": 19,
   "id": "27c223d4-2360-41f9-bad2-3216b8a621cd",
   "metadata": {},
   "outputs": [],
   "source": [
    "def make_mi_scores(X, y):\n",
    "    X = X.copy()\n",
    "    for colname in X.select_dtypes([\"object\", \"category\"]):\n",
    "        X[colname], _ = X[colname].factorize()\n",
    "    # All discrete features should now have integer dtypes\n",
    "    discrete_features = [pd.api.types.is_integer_dtype(t) for t in X.dtypes]\n",
    "    mi_scores = mutual_info_regression(X, y, discrete_features=discrete_features, random_state=0)\n",
    "    mi_scores = pd.Series(mi_scores, name=\"MI Scores\", index=X.columns)\n",
    "    mi_scores = mi_scores.sort_values(ascending=False)\n",
    "    return mi_scores\n",
    "\n",
    "def plot_mi_scores(scores):\n",
    "    scores = scores.sort_values(ascending=True)\n",
    "    width = np.arange(len(scores))\n",
    "    ticks = list(scores.index)\n",
    "    plt.barh(width, scores)\n",
    "    plt.yticks(width, ticks)\n",
    "    plt.title(\"Mutual Information Scores\")"
   ]
  },
  {
   "cell_type": "code",
   "execution_count": 20,
   "id": "1433caea-dc64-4133-b825-fee70295207a",
   "metadata": {},
   "outputs": [
    {
     "data": {
      "text/plain": [
       "OverallQual     0.571457\n",
       "Neighborhood    0.526220\n",
       "GrLivArea       0.430395\n",
       "YearBuilt       0.407974\n",
       "LotArea         0.394468\n",
       "                  ...   \n",
       "PoolQC          0.000000\n",
       "MiscFeature     0.000000\n",
       "MiscVal         0.000000\n",
       "MoSold          0.000000\n",
       "YrSold          0.000000\n",
       "Name: MI Scores, Length: 79, dtype: float64"
      ]
     },
     "execution_count": 20,
     "metadata": {},
     "output_type": "execute_result"
    }
   ],
   "source": [
    "# Let's look at our feature scores:\n",
    "\n",
    "X = df_train.copy()\n",
    "y = X.pop(\"SalePrice\")\n",
    "\n",
    "mi_scores = make_mi_scores(X, y)\n",
    "mi_scores"
   ]
  },
  {
   "cell_type": "code",
   "execution_count": 21,
   "id": "386a5e3c-2718-4f6b-a517-1edd1058fa41",
   "metadata": {},
   "outputs": [],
   "source": [
    "# the top scoring features will usually pay-off the most during feature development, so it could be a good idea to focus your \n",
    "# efforts on those. On the other hand, training on uninformative features can lead to overfitting. So, the features with 0.0 \n",
    "# scores we'll drop entirely:\n",
    "\n",
    "def drop_uninformative(df, mi_scores):\n",
    "    return df.loc[:, mi_scores > 0.0]"
   ]
  },
  {
   "cell_type": "code",
   "execution_count": 22,
   "id": "bbdfe35f-206b-4d7b-ba71-6fde45030235",
   "metadata": {},
   "outputs": [
    {
     "data": {
      "text/plain": [
       "0.14274827027030276"
      ]
     },
     "execution_count": 22,
     "metadata": {},
     "output_type": "execute_result"
    }
   ],
   "source": [
    "# Removing them does lead to a modest performance gain:\n",
    "\n",
    "X = df_train.copy()\n",
    "y = X.pop(\"SalePrice\")\n",
    "X = drop_uninformative(X, mi_scores)\n",
    "\n",
    "score_dataset(X, y)\n",
    "\n",
    "# Later, we'll add the drop_uninformative function to our feature-creation pipeline.\n"
   ]
  },
  {
   "cell_type": "code",
   "execution_count": null,
   "id": "d6a3d562-9b37-4924-81af-3e5e541d734c",
   "metadata": {},
   "outputs": [],
   "source": []
  },
  {
   "cell_type": "code",
   "execution_count": null,
   "id": "9ea86f2a-a7b0-4fd4-af6e-7fcedb2cb47d",
   "metadata": {},
   "outputs": [],
   "source": []
  },
  {
   "cell_type": "code",
   "execution_count": 23,
   "id": "e461953d-f194-41cc-94d3-b1d3c10b98d9",
   "metadata": {},
   "outputs": [
    {
     "data": {
      "text/plain": [
       "'Step 3 - Create Features¶'"
      ]
     },
     "execution_count": 23,
     "metadata": {},
     "output_type": "execute_result"
    }
   ],
   "source": [
    "'''Step 3 - Create Features¶'''\n"
   ]
  },
  {
   "cell_type": "code",
   "execution_count": 24,
   "id": "42285415-97fe-4441-a4d4-b95505c1699e",
   "metadata": {},
   "outputs": [],
   "source": [
    "# Now we'll start developing our feature set.\n",
    "# To make our feature engineering workflow more modular, we'll define a function that will take a prepared dataframe and pass it \n",
    "# through a pipeline of transformations to get the final feature set. It will look something like this:\n",
    "\n",
    "def create_features(df):\n",
    "    X = df.copy()\n",
    "    y = X.pop(\"SalePrice\")\n",
    "    X = X.join(create_features_1(X))\n",
    "    X = X.join(create_features_2(X))\n",
    "    X = X.join(create_features_3(X))\n",
    "    # ...\n",
    "    return X"
   ]
  },
  {
   "cell_type": "code",
   "execution_count": 25,
   "id": "f4a046a4-2afc-4cc7-b5df-05018896a17a",
   "metadata": {},
   "outputs": [],
   "source": [
    "# Let's go ahead and define one transformation now, a label encoding for the categorical features:\n",
    "\n",
    "def label_encode(df):\n",
    "    X = df.copy()\n",
    "    for colname in X.select_dtypes([\"category\"]):\n",
    "        X[colname] = X[colname].cat.codes\n",
    "    return X"
   ]
  },
  {
   "cell_type": "code",
   "execution_count": 26,
   "id": "b2f17603-76ca-4d7c-8dc6-9dd3adc9cfdc",
   "metadata": {},
   "outputs": [
    {
     "data": {
      "text/plain": [
       "\"def one_hot_encode(df):\\n    X = df.copy()\\n    categorical_cols = X.select_dtypes(include=['category']).columns\\n    X_encoded = pd.get_dummies(X, columns=categorical_cols, drop_first=True)\\n    return X_encoded\\n\""
      ]
     },
     "execution_count": 26,
     "metadata": {},
     "output_type": "execute_result"
    }
   ],
   "source": [
    "'''A label encoding is okay for any kind of categorical feature when you're using a tree-ensemble like XGBoost, even for unordered categories. If you wanted to try a linear regression model (also popular in this competition), you would instead want to use a one-hot encoding, especially for the features with unordered categories.'''\n",
    "'''def one_hot_encode(df):\n",
    "    X = df.copy()\n",
    "    categorical_cols = X.select_dtypes(include=['category']).columns\n",
    "    X_encoded = pd.get_dummies(X, columns=categorical_cols, drop_first=True)\n",
    "    return X_encoded\n",
    "'''"
   ]
  },
  {
   "cell_type": "code",
   "execution_count": 27,
   "id": "2c47ce94-d04e-4b9b-9761-25eaf35076ad",
   "metadata": {},
   "outputs": [],
   "source": [
    "# Create Features with Pandas\n",
    "# This cell reproduces the strategies for creating features in Pandas. Modify or add to these functions to try out other feature \n",
    "# combinations.\n",
    "\n",
    "def mathematical_transforms(df):\n",
    "    X = pd.DataFrame()  # dataframe to hold new features\n",
    "    X[\"LivLotRatio\"] = df.GrLivArea / df.LotArea\n",
    "    X[\"Spaciousness\"] = (df.FirstFlrSF + df.SecondFlrSF) / df.TotRmsAbvGrd\n",
    "    # This feature ended up not helping performance\n",
    "    # X[\"TotalOutsideSF\"] = \\\n",
    "    #     df.WoodDeckSF + df.OpenPorchSF + df.EnclosedPorch + \\\n",
    "    #     df.Threeseasonporch + df.ScreenPorch\n",
    "    return X\n",
    "\n",
    "\n",
    "def interactions(df):\n",
    "    X = pd.get_dummies(df.BldgType, prefix=\"Bldg\")\n",
    "    X = X.mul(df.GrLivArea, axis=0)\n",
    "    return X\n",
    "\n",
    "def counts(df):\n",
    "    X = pd.DataFrame()\n",
    "    X[\"PorchTypes\"] = df[[\n",
    "        \"WoodDeckSF\",\n",
    "        \"OpenPorchSF\",\n",
    "        \"EnclosedPorch\",\n",
    "        \"Threeseasonporch\",\n",
    "        \"ScreenPorch\",\n",
    "    ]].gt(0.0).sum(axis=1)\n",
    "    return X\n",
    "\n",
    "\n",
    "def break_down(df):\n",
    "    X = pd.DataFrame()\n",
    "    X[\"MSClass\"] = df.MSSubClass.str.split(\"_\", n=1, expand=True)[0]\n",
    "    return X\n",
    "\n",
    "def group_transforms(df):\n",
    "    X = pd.DataFrame()\n",
    "    X[\"MedNhbdArea\"] = df.groupby(\"Neighborhood\")[\"GrLivArea\"].transform(\"median\")\n",
    "    return X"
   ]
  },
  {
   "cell_type": "code",
   "execution_count": 28,
   "id": "53d98328-891b-44e3-9dcd-8e0ba4173bc3",
   "metadata": {},
   "outputs": [
    {
     "data": {
      "text/plain": [
       "'Here are some ideas for other transforms you could explore:\\n\\nInteractions between the quality Qual and condition Cond features. OverallQual, for instance, was a high-scoring feature. You could try combining it with OverallCond by converting both to integer type and taking a product.\\nSquare roots of area features. This would convert units of square feet to just feet.\\nLogarithms of numeric features. If a feature has a skewed distribution, applying a logarithm can help normalize it.\\nInteractions between numeric and categorical features that describe the same thing. You could look at interactions between BsmtQual and TotalBsmtSF, for instance.\\nOther group statistics in Neighboorhood. We did the median of GrLivArea. Looking at mean, std, or count could be interesting. You could also try combining the group statistics with other features. Maybe the difference of GrLivArea and the median is important?'"
      ]
     },
     "execution_count": 28,
     "metadata": {},
     "output_type": "execute_result"
    }
   ],
   "source": [
    "'''Here are some ideas for other transforms you could explore:\n",
    "\n",
    "Interactions between the quality Qual and condition Cond features. OverallQual, for instance, was a high-scoring feature. You could try combining it with OverallCond by converting both to integer type and taking a product.\n",
    "Square roots of area features. This would convert units of square feet to just feet.\n",
    "Logarithms of numeric features. If a feature has a skewed distribution, applying a logarithm can help normalize it.\n",
    "Interactions between numeric and categorical features that describe the same thing. You could look at interactions between BsmtQual and TotalBsmtSF, for instance.\n",
    "Other group statistics in Neighboorhood. We did the median of GrLivArea. Looking at mean, std, or count could be interesting. You could also try combining the group statistics with other features. Maybe the difference of GrLivArea and the median is important?'''"
   ]
  },
  {
   "cell_type": "code",
   "execution_count": null,
   "id": "dce51667-e6c2-4bef-b42e-4580703d04bc",
   "metadata": {},
   "outputs": [],
   "source": []
  },
  {
   "cell_type": "code",
   "execution_count": 29,
   "id": "f0e6f991-963c-46e1-aa4f-13308dbaf9db",
   "metadata": {},
   "outputs": [],
   "source": [
    "# k-Means Clustering\n",
    "\n",
    "# The first unsupervised algorithm we used to create features was k-means clustering. We saw that you could either use the cluster \n",
    "# labels as a feature (a column with 0, 1, 2, ...) or you could use the distance of the observations to each cluster. We saw how \n",
    "# these features can sometimes be effective at untangling complicated spatial relationships.\n",
    "\n",
    "cluster_features = [\n",
    "    \"LotArea\",\n",
    "    \"TotalBsmtSF\",\n",
    "    \"FirstFlrSF\",\n",
    "    \"SecondFlrSF\",\n",
    "    \"GrLivArea\",\n",
    "]\n",
    "\n",
    "\n",
    "def cluster_labels(df, features, n_clusters=20):\n",
    "    X = df.copy()\n",
    "    X_scaled = X.loc[:, features]\n",
    "    X_scaled = (X_scaled - X_scaled.mean(axis=0)) / X_scaled.std(axis=0)\n",
    "    kmeans = KMeans(n_clusters=n_clusters, n_init=50, random_state=0)\n",
    "    X_new = pd.DataFrame()\n",
    "    X_new[\"Cluster\"] = kmeans.fit_predict(X_scaled)\n",
    "    return X_new\n",
    "\n",
    "\n",
    "def cluster_distance(df, features, n_clusters=20):\n",
    "    X = df.copy()\n",
    "    X_scaled = X.loc[:, features]\n",
    "    X_scaled = (X_scaled - X_scaled.mean(axis=0)) / X_scaled.std(axis=0)\n",
    "    kmeans = KMeans(n_clusters=20, n_init=50, random_state=0)\n",
    "    X_cd = kmeans.fit_transform(X_scaled)\n",
    "    # Label features and join to dataset\n",
    "    X_cd = pd.DataFrame(\n",
    "        X_cd, columns=[f\"Centroid_{i}\" for i in range(X_cd.shape[1])]\n",
    "    )\n",
    "    return X_cd"
   ]
  },
  {
   "cell_type": "code",
   "execution_count": null,
   "id": "2b7c75e9-dbda-4db0-b707-8db9fd1217cd",
   "metadata": {},
   "outputs": [],
   "source": []
  },
  {
   "cell_type": "code",
   "execution_count": 30,
   "id": "770ffa21-d9c8-487d-97c3-a9b9e4d0d993",
   "metadata": {},
   "outputs": [
    {
     "data": {
      "text/plain": [
       "'Principal Component Analysis'"
      ]
     },
     "execution_count": 30,
     "metadata": {},
     "output_type": "execute_result"
    }
   ],
   "source": [
    "'''Principal Component Analysis'''\n"
   ]
  },
  {
   "cell_type": "code",
   "execution_count": 31,
   "id": "46caa853-4232-4105-a7f9-bae4fd3c8f06",
   "metadata": {},
   "outputs": [],
   "source": [
    "# PCA was the second unsupervised model we used for feature creation. We saw how it could be used to decompose the variational \n",
    "# structure in the data. The PCA algorithm gave us loadings which described each component of variation, and also the \n",
    "# components which were the transformed datapoints. The loadings can suggest features to create and the components we can use \n",
    "# as features directly.\n",
    "\n",
    "def apply_pca(X, standardize=True):\n",
    "    # Standardize\n",
    "    if standardize:\n",
    "        X = (X - X.mean(axis=0)) / X.std(axis=0)\n",
    "    # Create principal components\n",
    "    pca = PCA()\n",
    "    X_pca = pca.fit_transform(X)\n",
    "    # Convert to dataframe\n",
    "    component_names = [f\"PC{i+1}\" for i in range(X_pca.shape[1])]\n",
    "    X_pca = pd.DataFrame(X_pca, columns=component_names)\n",
    "    # Create loadings\n",
    "    loadings = pd.DataFrame(\n",
    "        pca.components_.T,  # transpose the matrix of loadings\n",
    "        columns=component_names,  # so the columns are the principal components\n",
    "        index=X.columns,  # and the rows are the original features\n",
    "    )\n",
    "    return pca, X_pca, loadings\n",
    "\n",
    "\n",
    "def plot_variance(pca, width=8, dpi=100):\n",
    "    # Create figure\n",
    "    fig, axs = plt.subplots(1, 2)\n",
    "    n = pca.n_components_\n",
    "    grid = np.arange(1, n + 1)\n",
    "    # Explained variance\n",
    "    evr = pca.explained_variance_ratio_\n",
    "    axs[0].bar(grid, evr)\n",
    "    axs[0].set(\n",
    "        xlabel=\"Component\", title=\"% Explained Variance\", ylim=(0.0, 1.0)\n",
    "    )\n",
    "    # Cumulative Variance\n",
    "    cv = np.cumsum(evr)\n",
    "    axs[1].plot(np.r_[0, grid], np.r_[0, cv], \"o-\")\n",
    "    axs[1].set(\n",
    "        xlabel=\"Component\", title=\"% Cumulative Variance\", ylim=(0.0, 1.0)\n",
    "    )\n",
    "    # Set up figure\n",
    "    fig.set(figwidth=8, dpi=100)\n",
    "    return axs"
   ]
  },
  {
   "cell_type": "code",
   "execution_count": null,
   "id": "54066df3-8b42-44b2-b0b5-61ff4941c70b",
   "metadata": {},
   "outputs": [],
   "source": []
  },
  {
   "cell_type": "code",
   "execution_count": 32,
   "id": "912429b3-ac24-44b1-8f0f-7d0027c86cd1",
   "metadata": {},
   "outputs": [],
   "source": [
    "def pca_inspired(df):\n",
    "    X = pd.DataFrame()\n",
    "    X[\"Feature1\"] = df.GrLivArea + df.TotalBsmtSF\n",
    "    X[\"Feature2\"] = df.YearRemodAdd * df.TotalBsmtSF\n",
    "    return X\n",
    "\n",
    "\n",
    "def pca_components(df, features):\n",
    "    X = df.loc[:, features]\n",
    "    _, X_pca, _ = apply_pca(X)\n",
    "    return X_pca\n",
    "\n",
    "\n",
    "pca_features = [\n",
    "    \"GarageArea\",\n",
    "    \"YearRemodAdd\",\n",
    "    \"TotalBsmtSF\",\n",
    "    \"GrLivArea\",\n",
    "]"
   ]
  },
  {
   "cell_type": "code",
   "execution_count": null,
   "id": "62463af4-fbdc-47dc-a12f-a367e9769725",
   "metadata": {},
   "outputs": [],
   "source": [
    " "
   ]
  },
  {
   "cell_type": "code",
   "execution_count": 33,
   "id": "ba02b182-7fa1-4131-8b65-8dfacac7c43e",
   "metadata": {},
   "outputs": [
    {
     "data": {
      "text/plain": [
       "\"These are only a couple ways you could use the principal components. You could also try clustering using one or more components. One thing to note is that PCA doesn't change the distance between points -- it's just like a rotation. So clustering with the full set of components is the same as clustering with the original features. Instead, pick some subset of components, maybe those with the most variance or the highest MI scores.\\n\\nFor further analysis, you might want to look at a correlation matrix for the dataset:\""
      ]
     },
     "execution_count": 33,
     "metadata": {},
     "output_type": "execute_result"
    }
   ],
   "source": [
    "'''These are only a couple ways you could use the principal components. You could also try clustering using one or more components. One thing to note is that PCA doesn't change the distance between points -- it's just like a rotation. So clustering with the full set of components is the same as clustering with the original features. Instead, pick some subset of components, maybe those with the most variance or the highest MI scores.\n",
    "\n",
    "For further analysis, you might want to look at a correlation matrix for the dataset:'''"
   ]
  },
  {
   "cell_type": "code",
   "execution_count": 34,
   "id": "c93b9b51-983f-4307-aeee-31f7830e77cc",
   "metadata": {},
   "outputs": [
    {
     "data": {
      "image/png": "[encoded data removed]",
      "text/plain": [
       "<Figure size 1000x1000 with 4 Axes>"
      ]
     },
     "metadata": {},
     "output_type": "display_data"
    }
   ],
   "source": [
    "# Label encode categorical columns\n",
    "df_train_encoded = label_encode(df_train)\n",
    "\n",
    "\n",
    "def corrplot(df, method=\"pearson\", annot=True, **kwargs):\n",
    "    sns.clustermap(\n",
    "        df.corr(method),\n",
    "        vmin=-1.0,\n",
    "        vmax=1.0,\n",
    "        cmap=\"icefire\",\n",
    "        method=\"complete\",\n",
    "        annot=annot,\n",
    "        **kwargs,\n",
    "    )\n",
    "\n",
    "\n",
    "corrplot(df_train_encoded, annot=None)"
   ]
  },
  {
   "cell_type": "code",
   "execution_count": null,
   "id": "4d4988f8-5160-448d-ac83-66d172689bf1",
   "metadata": {},
   "outputs": [],
   "source": []
  },
  {
   "cell_type": "code",
   "execution_count": 35,
   "id": "67f8ea98-9c90-42ad-a17a-15b4398847ee",
   "metadata": {},
   "outputs": [],
   "source": [
    "# PCA Application - Indicate Outliers\n",
    "\n",
    "# Applied PCA to determine houses that were outliers, that is, houses having values not well represented in the rest of the data. \n",
    "# You saw that there was a group of houses in the Edwards neighborhood having a SaleCondition of Partial whose values were \n",
    "# especially extreme.\n",
    "\n",
    "def indicate_outliers(df):\n",
    "    X_new = pd.DataFrame()\n",
    "    X_new[\"Outlier\"] = (df.Neighborhood == \"Edwards\") & (df.SaleCondition == \"Partial\")\n",
    "    return X_new"
   ]
  },
  {
   "cell_type": "code",
   "execution_count": 36,
   "id": "a2e9e8d0-eb99-4583-83bc-75a735b35976",
   "metadata": {},
   "outputs": [
    {
     "data": {
      "text/plain": [
       "'You could also consider applying some sort of robust scaler from scikit-learn\\'s sklearn.preprocessing module to the outlying values, especially those in GrLivArea. Here is a tutorial illustrating some of them. Another option could be to create a feature of \"outlier scores\" using one of scikit-learn\\'s outlier detectors.'"
      ]
     },
     "execution_count": 36,
     "metadata": {},
     "output_type": "execute_result"
    }
   ],
   "source": [
    "'''You could also consider applying some sort of robust scaler from scikit-learn's sklearn.preprocessing module to the outlying values, especially those in GrLivArea. Here is a tutorial illustrating some of them. Another option could be to create a feature of \"outlier scores\" using one of scikit-learn's outlier detectors.'''"
   ]
  },
  {
   "cell_type": "code",
   "execution_count": null,
   "id": "7ece8dac-27fb-4007-b600-7577ac9eb719",
   "metadata": {},
   "outputs": [],
   "source": []
  },
  {
   "cell_type": "code",
   "execution_count": 37,
   "id": "c01f9d7d-d213-4743-a54a-c4e63150ae21",
   "metadata": {},
   "outputs": [
    {
     "data": {
      "text/plain": [
       "\"There is, however, a way you can use target encoding without having to use held-out encoding data. It's basically the same trick used in cross-validation:\\n\\nSplit the data into folds, each fold having two splits of the dataset.\\nTrain the encoder on one split but transform the values of the other.\\nRepeat for all the splits.\\nThis way, training and transformation always take place on independent sets of data, just like when you use a holdout set but without any data going to waste.\""
      ]
     },
     "execution_count": 37,
     "metadata": {},
     "output_type": "execute_result"
    }
   ],
   "source": [
    "# Target Encoding\n",
    "\n",
    "'''There is, however, a way you can use target encoding without having to use held-out encoding data. It's basically the same trick used in cross-validation:\n",
    "\n",
    "Split the data into folds, each fold having two splits of the dataset.\n",
    "Train the encoder on one split but transform the values of the other.\n",
    "Repeat for all the splits.\n",
    "This way, training and transformation always take place on independent sets of data, just like when you use a holdout set but without any data going to waste.'''"
   ]
  },
  {
   "cell_type": "code",
   "execution_count": null,
   "id": "a7aa73bf-e933-434e-a885-68e1247c8d65",
   "metadata": {},
   "outputs": [],
   "source": []
  },
  {
   "cell_type": "code",
   "execution_count": 38,
   "id": "ed9585a0-744c-4042-a7ae-98ce78c9875b",
   "metadata": {},
   "outputs": [],
   "source": [
    "class CrossFoldEncoder:\n",
    "    def __init__(self, encoder, **kwargs):\n",
    "        self.encoder_ = encoder\n",
    "        self.kwargs_ = kwargs  # keyword arguments for the encoder\n",
    "        self.cv_ = KFold(n_splits=5)\n",
    "\n",
    "    # Fit an encoder on one split and transform the feature on the\n",
    "    # other. Iterating over the splits in all folds gives a complete\n",
    "    # transformation. We also now have one trained encoder on each\n",
    "    # fold.\n",
    "    def fit_transform(self, X, y, cols):\n",
    "        self.fitted_encoders_ = []\n",
    "        self.cols_ = cols\n",
    "        X_encoded = []\n",
    "        for idx_encode, idx_train in self.cv_.split(X):\n",
    "            fitted_encoder = self.encoder_(cols=cols, **self.kwargs_)\n",
    "            fitted_encoder.fit(\n",
    "                X.iloc[idx_encode, :], y.iloc[idx_encode],\n",
    "            )\n",
    "            X_encoded.append(fitted_encoder.transform(X.iloc[idx_train, :])[cols])\n",
    "            self.fitted_encoders_.append(fitted_encoder)\n",
    "        X_encoded = pd.concat(X_encoded)\n",
    "        X_encoded.columns = [name + \"_encoded\" for name in X_encoded.columns]\n",
    "        return X_encoded\n",
    "\n",
    "    # To transform the test data, average the encodings learned from\n",
    "    # each fold.\n",
    "    def transform(self, X):\n",
    "        from functools import reduce\n",
    "\n",
    "        X_encoded_list = []\n",
    "        for fitted_encoder in self.fitted_encoders_:\n",
    "            X_encoded = fitted_encoder.transform(X)\n",
    "            X_encoded_list.append(X_encoded[self.cols_])\n",
    "        X_encoded = reduce(\n",
    "            lambda x, y: x.add(y, fill_value=0), X_encoded_list\n",
    "        ) / len(X_encoded_list)\n",
    "        X_encoded.columns = [name + \"_encoded\" for name in X_encoded.columns]\n",
    "        return X_encoded"
   ]
  },
  {
   "cell_type": "code",
   "execution_count": 39,
   "id": "ee7144c9-006c-4a00-9832-4232523a955a",
   "metadata": {},
   "outputs": [],
   "source": [
    "encoder = CrossFoldEncoder(MEstimateEncoder, m=1)\n",
    "X_encoded = encoder.fit_transform(X, y, cols=[\"MSSubClass\"])"
   ]
  },
  {
   "cell_type": "code",
   "execution_count": null,
   "id": "5a4a4804-215d-4d02-b28f-a73002db1bdf",
   "metadata": {},
   "outputs": [],
   "source": []
  },
  {
   "cell_type": "code",
   "execution_count": 40,
   "id": "a7784d3e-c6bb-43bd-bde0-4af4b2ffebad",
   "metadata": {},
   "outputs": [
    {
     "data": {
      "text/plain": [
       "'Create Final Feature Set'"
      ]
     },
     "execution_count": 40,
     "metadata": {},
     "output_type": "execute_result"
    }
   ],
   "source": [
    "'''Create Final Feature Set'''"
   ]
  },
  {
   "cell_type": "code",
   "execution_count": 41,
   "id": "f001540d-4780-4d39-97a1-bc7c32f91489",
   "metadata": {},
   "outputs": [
    {
     "data": {
      "text/plain": [
       "\"Now let's combine everything together. Putting the transformations into separate functions makes it easier to experiment with various combinations. The ones I left uncommented I found gave the best results. You should experiment with you own ideas though! Modify any of these transformations or come up with some of your own to add to the pipeline.\""
      ]
     },
     "execution_count": 41,
     "metadata": {},
     "output_type": "execute_result"
    }
   ],
   "source": [
    "'''Now let's combine everything together. Putting the transformations into separate functions makes it easier to experiment with various combinations. The ones I left uncommented I found gave the best results. You should experiment with you own ideas though! Modify any of these transformations or come up with some of your own to add to the pipeline.'''"
   ]
  },
  {
   "cell_type": "code",
   "execution_count": null,
   "id": "e01e8e65-d461-4396-b621-9076e66c4b73",
   "metadata": {},
   "outputs": [],
   "source": []
  },
  {
   "cell_type": "code",
   "execution_count": 42,
   "id": "a5616603-c2b0-471a-a264-88495b0dd44a",
   "metadata": {},
   "outputs": [
    {
     "data": {
      "text/plain": [
       "0.13863986787521657"
      ]
     },
     "execution_count": 42,
     "metadata": {},
     "output_type": "execute_result"
    }
   ],
   "source": [
    "def create_features(df, df_test=None):\n",
    "    X = df.copy()\n",
    "    y = X.pop(\"SalePrice\")\n",
    "    mi_scores = make_mi_scores(X, y)\n",
    "\n",
    "    # Combine splits if test data is given\n",
    "    #\n",
    "    # If we're creating features for test set predictions, we should\n",
    "    # use all the data we have available. After creating our features,\n",
    "    # we'll recreate the splits.\n",
    "    if df_test is not None:\n",
    "        X_test = df_test.copy()\n",
    "        X_test.pop(\"SalePrice\")\n",
    "        X = pd.concat([X, X_test])\n",
    "\n",
    "    # Lesson 2 - Mutual Information\n",
    "    X = drop_uninformative(X, mi_scores)\n",
    "\n",
    "    # Lesson 3 - Transformations\n",
    "    X = X.join(mathematical_transforms(X))\n",
    "    X = X.join(interactions(X))\n",
    "    X = X.join(counts(X))\n",
    "    # X = X.join(break_down(X))\n",
    "    X = X.join(group_transforms(X))\n",
    "\n",
    "    # Lesson 4 - Clustering\n",
    "    # X = X.join(cluster_labels(X, cluster_features, n_clusters=20))\n",
    "    # X = X.join(cluster_distance(X, cluster_features, n_clusters=20))\n",
    "\n",
    "    # Lesson 5 - PCA\n",
    "    X = X.join(pca_inspired(X))\n",
    "    # X = X.join(pca_components(X, pca_features))\n",
    "    # X = X.join(indicate_outliers(X))\n",
    "\n",
    "    X = label_encode(X)\n",
    "\n",
    "    # Reform splits\n",
    "    if df_test is not None:\n",
    "        X_test = X.loc[df_test.index, :]\n",
    "        X.drop(df_test.index, inplace=True)\n",
    "\n",
    "    # Lesson 6 - Target Encoder\n",
    "    encoder = CrossFoldEncoder(MEstimateEncoder, m=1)\n",
    "    X = X.join(encoder.fit_transform(X, y, cols=[\"MSSubClass\"]))\n",
    "    if df_test is not None:\n",
    "        X_test = X_test.join(encoder.transform(X_test))\n",
    "\n",
    "    if df_test is not None:\n",
    "        return X, X_test\n",
    "    else:\n",
    "        return X\n",
    "\n",
    "\n",
    "df_train, df_test = load_data()\n",
    "X_train = create_features(df_train)\n",
    "y_train = df_train.loc[:, \"SalePrice\"]\n",
    "\n",
    "score_dataset(X_train, y_train)"
   ]
  },
  {
   "cell_type": "code",
   "execution_count": null,
   "id": "b4be5440-d7a7-4649-b1c2-e693d8e15df7",
   "metadata": {},
   "outputs": [],
   "source": [
    " "
   ]
  },
  {
   "cell_type": "code",
   "execution_count": 43,
   "id": "7ab6027a-82e4-4c17-aa3c-5b471dded20a",
   "metadata": {},
   "outputs": [
    {
     "data": {
      "text/plain": [
       "0.12417177287599078"
      ]
     },
     "execution_count": 43,
     "metadata": {},
     "output_type": "execute_result"
    }
   ],
   "source": [
    "# Step 4 - Hyperparameter Tuning\n",
    "# At this stage, we to do some hyperparameter tuning with XGBoost before creating your final submission.\n",
    "\n",
    "X_train = create_features(df_train)\n",
    "y_train = df_train.loc[:, \"SalePrice\"]\n",
    "\n",
    "xgb_params = dict(\n",
    "    max_depth=6,           # maximum depth of each tree - try 2 to 10\n",
    "    learning_rate=0.01,    # effect of each tree - try 0.0001 to 0.1\n",
    "    n_estimators=1000,     # number of trees (that is, boosting rounds) - try 1000 to 8000\n",
    "    min_child_weight=1,    # minimum number of houses in a leaf - try 1 to 10\n",
    "    colsample_bytree=0.7,  # fraction of features (columns) per tree - try 0.2 to 1.0\n",
    "    subsample=0.7,         # fraction of instances (rows) per tree - try 0.2 to 1.0\n",
    "    reg_alpha=0.5,         # L1 regularization (like LASSO) - try 0.0 to 10.0\n",
    "    reg_lambda=1.0,        # L2 regularization (like Ridge) - try 0.0 to 10.0\n",
    "    num_parallel_tree=1,   # set > 1 for boosted random forests\n",
    ")\n",
    "\n",
    "xgb = XGBRegressor(**xgb_params)\n",
    "score_dataset(X_train, y_train, xgb)"
   ]
  },
  {
   "cell_type": "code",
   "execution_count": null,
   "id": "6f72fbf9-ffb1-4f49-b134-5f17833ae4ce",
   "metadata": {},
   "outputs": [],
   "source": []
  },
  {
   "cell_type": "code",
   "execution_count": 44,
   "id": "2c47a868-dbf8-4955-81e6-26d46f4f10fa",
   "metadata": {},
   "outputs": [
    {
     "data": {
      "text/plain": [
       "\"Just tuning these by hand can give you great results. However, you might like to try using one of scikit-learn's automatic hyperparameter tuners. Or you could explore more advanced tuning libraries like Optuna or scikit-optimize.\""
      ]
     },
     "execution_count": 44,
     "metadata": {},
     "output_type": "execute_result"
    }
   ],
   "source": [
    "'''Just tuning these by hand can give you great results. However, you might like to try using one of scikit-learn's automatic hyperparameter tuners. Or you could explore more advanced tuning libraries like Optuna or scikit-optimize.'''"
   ]
  },
  {
   "cell_type": "code",
   "execution_count": 46,
   "id": "50f6765d-4efa-4909-8eba-aa504cc14d47",
   "metadata": {},
   "outputs": [
    {
     "name": "stderr",
     "output_type": "stream",
     "text": [
      "[I 2023-08-28 17:44:15,488] A new study created in memory with name: no-name-010c6ea8-48ad-44a1-80ed-0bb6f19752fa\n",
      "[I 2023-08-28 17:47:00,122] Trial 0 finished with value: 0.5827411989753546 and parameters: {'max_depth': 9, 'learning_rate': 0.0006698096921559599, 'n_estimators': 4492, 'min_child_weight': 6, 'colsample_bytree': 0.442881831080844, 'subsample': 0.3966901417985426, 'reg_alpha': 0.0002879471895471685, 'reg_lambda': 0.0006849329990673305}. Best is trial 0 with value: 0.5827411989753546.\n",
      "[I 2023-08-28 17:48:38,734] Trial 1 finished with value: 5.871440423406321 and parameters: {'max_depth': 10, 'learning_rate': 0.00012174743948757751, 'n_estimators': 5561, 'min_child_weight': 3, 'colsample_bytree': 0.8756489031157044, 'subsample': 0.6688428954953749, 'reg_alpha': 0.022996170164550644, 'reg_lambda': 0.7351354960748606}. Best is trial 0 with value: 0.5827411989753546.\n",
      "[I 2023-08-28 17:50:47,954] Trial 2 finished with value: 3.6831949997139515 and parameters: {'max_depth': 6, 'learning_rate': 0.00015968394665101838, 'n_estimators': 7153, 'min_child_weight': 10, 'colsample_bytree': 0.2131022459879569, 'subsample': 0.3924877809781763, 'reg_alpha': 0.013596354830836545, 'reg_lambda': 0.004279239162797208}. Best is trial 0 with value: 0.5827411989753546.\n",
      "[I 2023-08-28 17:53:25,433] Trial 3 finished with value: 0.11904121823426478 and parameters: {'max_depth': 4, 'learning_rate': 0.0031406704395906915, 'n_estimators': 7897, 'min_child_weight': 7, 'colsample_bytree': 0.7402821971845863, 'subsample': 0.40476961828520575, 'reg_alpha': 0.15652504393537933, 'reg_lambda': 0.02756307117097184}. Best is trial 3 with value: 0.11904121823426478.\n",
      "[I 2023-08-28 17:56:10,099] Trial 4 finished with value: 0.11985580780780507 and parameters: {'max_depth': 6, 'learning_rate': 0.020092340192372184, 'n_estimators': 7455, 'min_child_weight': 7, 'colsample_bytree': 0.20720460174936478, 'subsample': 0.9397983694015983, 'reg_alpha': 0.0005150264251649663, 'reg_lambda': 0.05890872725861139}. Best is trial 3 with value: 0.11904121823426478.\n",
      "[I 2023-08-28 17:57:43,079] Trial 5 finished with value: 0.16944184640321233 and parameters: {'max_depth': 5, 'learning_rate': 0.08760577129671458, 'n_estimators': 5081, 'min_child_weight': 6, 'colsample_bytree': 0.38754210586920873, 'subsample': 0.8984493481880542, 'reg_alpha': 25.98838282241102, 'reg_lambda': 0.000785528416388934}. Best is trial 3 with value: 0.11904121823426478.\n",
      "[I 2023-08-28 17:58:47,107] Trial 6 finished with value: 6.529590361246063 and parameters: {'max_depth': 3, 'learning_rate': 0.00016343860920777406, 'n_estimators': 3484, 'min_child_weight': 8, 'colsample_bytree': 0.4017145436116777, 'subsample': 0.6438474045158151, 'reg_alpha': 0.5927186104721442, 'reg_lambda': 0.04283573868288322}. Best is trial 3 with value: 0.11904121823426478.\n",
      "[I 2023-08-28 17:59:13,438] Trial 7 finished with value: 2.4695152386036794 and parameters: {'max_depth': 3, 'learning_rate': 0.0010303134775810326, 'n_estimators': 1545, 'min_child_weight': 9, 'colsample_bytree': 0.6482685188589035, 'subsample': 0.5978417465377226, 'reg_alpha': 63.65446279115593, 'reg_lambda': 3.8551247878444945}. Best is trial 3 with value: 0.11904121823426478.\n",
      "[I 2023-08-28 18:02:11,135] Trial 8 finished with value: 0.11975097747715537 and parameters: {'max_depth': 7, 'learning_rate': 0.001332233336536568, 'n_estimators': 6146, 'min_child_weight': 5, 'colsample_bytree': 0.45135242032588146, 'subsample': 0.5789716807119257, 'reg_alpha': 0.0015321873573793021, 'reg_lambda': 0.00011619541442278467}. Best is trial 3 with value: 0.11904121823426478.\n",
      "[I 2023-08-28 18:03:47,466] Trial 9 finished with value: 0.12085905799328855 and parameters: {'max_depth': 7, 'learning_rate': 0.0074258407243989214, 'n_estimators': 4400, 'min_child_weight': 6, 'colsample_bytree': 0.24488600722297793, 'subsample': 0.5438390170069556, 'reg_alpha': 0.8927700397342169, 'reg_lambda': 2.6078276173088835}. Best is trial 3 with value: 0.11904121823426478.\n",
      "[I 2023-08-28 18:06:27,029] Trial 10 finished with value: 0.12176259437339858 and parameters: {'max_depth': 2, 'learning_rate': 0.004900117747907813, 'n_estimators': 7938, 'min_child_weight': 1, 'colsample_bytree': 0.9922164624500861, 'subsample': 0.3535851121613811, 'reg_alpha': 0.32547597651518834, 'reg_lambda': 31.650242562146637}. Best is trial 3 with value: 0.11904121823426478.\n",
      "[I 2023-08-28 18:09:21,403] Trial 11 finished with value: 0.11876022766219212 and parameters: {'max_depth': 8, 'learning_rate': 0.0019194697014509497, 'n_estimators': 6446, 'min_child_weight': 4, 'colsample_bytree': 0.665875323468112, 'subsample': 0.28165062928079765, 'reg_alpha': 0.002135123010499801, 'reg_lambda': 0.00013945046074220963}. Best is trial 11 with value: 0.11876022766219212.\n",
      "[I 2023-08-28 18:12:15,718] Trial 12 finished with value: 0.11873348072134164 and parameters: {'max_depth': 8, 'learning_rate': 0.0026435014876115604, 'n_estimators': 6494, 'min_child_weight': 4, 'colsample_bytree': 0.7123808914913805, 'subsample': 0.26245074191232176, 'reg_alpha': 0.00010710880967953499, 'reg_lambda': 0.007327421538542391}. Best is trial 12 with value: 0.11873348072134164.\n",
      "[I 2023-08-28 18:15:15,397] Trial 13 finished with value: 0.1184505310670548 and parameters: {'max_depth': 8, 'learning_rate': 0.002091279416136368, 'n_estimators': 6476, 'min_child_weight': 3, 'colsample_bytree': 0.7028639557797971, 'subsample': 0.26174412539097713, 'reg_alpha': 0.00016774801105948577, 'reg_lambda': 0.004063121632769061}. Best is trial 13 with value: 0.1184505310670548.\n",
      "[I 2023-08-28 18:18:54,294] Trial 14 finished with value: 0.11847187186060375 and parameters: {'max_depth': 10, 'learning_rate': 0.009527622361009864, 'n_estimators': 6503, 'min_child_weight': 2, 'colsample_bytree': 0.7678374906436367, 'subsample': 0.24557123772760076, 'reg_alpha': 0.000116409352273708, 'reg_lambda': 0.006932410669587043}. Best is trial 13 with value: 0.1184505310670548.\n",
      "[I 2023-08-28 18:20:51,103] Trial 15 finished with value: 0.11979913420150752 and parameters: {'max_depth': 10, 'learning_rate': 0.011631707612806864, 'n_estimators': 3196, 'min_child_weight': 1, 'colsample_bytree': 0.8001562115141373, 'subsample': 0.24299370374581142, 'reg_alpha': 0.00012597028945670095, 'reg_lambda': 0.006210453237988835}. Best is trial 13 with value: 0.1184505310670548.\n",
      "[I 2023-08-28 18:23:27,186] Trial 16 finished with value: 0.11984394717042514 and parameters: {'max_depth': 9, 'learning_rate': 0.021302358860880187, 'n_estimators': 5432, 'min_child_weight': 2, 'colsample_bytree': 0.584294611405989, 'subsample': 0.20685407058754862, 'reg_alpha': 0.001134961754363263, 'reg_lambda': 0.2759554473167418}. Best is trial 13 with value: 0.1184505310670548.\n",
      "[I 2023-08-28 18:26:16,773] Trial 17 finished with value: 0.49391308847057763 and parameters: {'max_depth': 9, 'learning_rate': 0.00046798379841186217, 'n_estimators': 6813, 'min_child_weight': 3, 'colsample_bytree': 0.8299484292158766, 'subsample': 0.21176795583957086, 'reg_alpha': 0.00011338792117397447, 'reg_lambda': 0.014296777274172702}. Best is trial 13 with value: 0.1184505310670548.\n",
      "[I 2023-08-28 18:28:24,885] Trial 18 finished with value: 0.11790223288759334 and parameters: {'max_depth': 10, 'learning_rate': 0.005283456685514421, 'n_estimators': 3486, 'min_child_weight': 2, 'colsample_bytree': 0.5784894046009935, 'subsample': 0.478869783473452, 'reg_alpha': 0.005690451163801449, 'reg_lambda': 0.11109479242987162}. Best is trial 18 with value: 0.11790223288759334.\n",
      "[I 2023-08-28 18:29:23,622] Trial 19 finished with value: 0.11955147589462294 and parameters: {'max_depth': 8, 'learning_rate': 0.003924989009500674, 'n_estimators': 2138, 'min_child_weight': 3, 'colsample_bytree': 0.639031991454859, 'subsample': 0.4786449949587762, 'reg_alpha': 0.00738829227523767, 'reg_lambda': 0.1990803733739866}. Best is trial 18 with value: 0.11790223288759334.\n"
     ]
    }
   ],
   "source": [
    "import optuna\n",
    "# Here is how you can use Optuna with XGBoost:\n",
    "\n",
    "def objective(trial):\n",
    "    xgb_params = dict(\n",
    "        max_depth=trial.suggest_int(\"max_depth\", 2, 10),\n",
    "        learning_rate=trial.suggest_float(\"learning_rate\", 1e-4, 1e-1, log=True),\n",
    "        n_estimators=trial.suggest_int(\"n_estimators\", 1000, 8000),\n",
    "        min_child_weight=trial.suggest_int(\"min_child_weight\", 1, 10),\n",
    "        colsample_bytree=trial.suggest_float(\"colsample_bytree\", 0.2, 1.0),\n",
    "        subsample=trial.suggest_float(\"subsample\", 0.2, 1.0),\n",
    "        reg_alpha=trial.suggest_float(\"reg_alpha\", 1e-4, 1e2, log=True),\n",
    "        reg_lambda=trial.suggest_float(\"reg_lambda\", 1e-4, 1e2, log=True),\n",
    "    )\n",
    "    xgb = XGBRegressor(**xgb_params)\n",
    "    return score_dataset(X_train, y_train, xgb)\n",
    "\n",
    "study = optuna.create_study(direction=\"minimize\")\n",
    "study.optimize(objective, n_trials=20)\n",
    "xgb_params = study.best_params"
   ]
  },
  {
   "cell_type": "code",
   "execution_count": 51,
   "id": "6fb4210b-dbc9-43b6-9073-bfd471b08ad5",
   "metadata": {},
   "outputs": [],
   "source": [
    "# You can use Matplotlib instead of Plotly for visualization by simply replacing `optuna.visualization` with\n",
    "# `optuna.visualization.matplotlib` in the following examples.\n",
    "from optuna.visualization.matplotlib import plot_contour\n",
    "from optuna.visualization.matplotlib import plot_edf\n",
    "from optuna.visualization.matplotlib import plot_intermediate_values\n",
    "from optuna.visualization.matplotlib import plot_optimization_history\n",
    "from optuna.visualization.matplotlib import plot_parallel_coordinate\n",
    "from optuna.visualization.matplotlib import plot_param_importances\n",
    "from optuna.visualization.matplotlib import plot_rank\n",
    "from optuna.visualization.matplotlib import plot_slice\n",
    "from optuna.visualization.matplotlib import plot_timeline\n",
    "\n",
    "SEED = 42\n",
    "\n",
    "np.random.seed(SEED)"
   ]
  },
  {
   "cell_type": "code",
   "execution_count": 52,
   "id": "b6be9e29-7e76-44d0-8c1d-444423c9cb47",
   "metadata": {},
   "outputs": [
    {
     "data": {
      "text/plain": [
       "<Axes: title={'center': 'Optimization History Plot'}, xlabel='Trial', ylabel='Objective Value'>"
      ]
     },
     "execution_count": 52,
     "metadata": {},
     "output_type": "execute_result"
    },
    {
     "data": {
      "image/png": "[encoded data removed]",
      "text/plain": [
       "<Figure size 640x480 with 1 Axes>"
      ]
     },
     "metadata": {},
     "output_type": "display_data"
    }
   ],
   "source": [
    "# Plot functions\n",
    "plot_optimization_history(study)"
   ]
  },
  {
   "cell_type": "code",
   "execution_count": null,
   "id": "1cfbdd0c-e8d2-455c-8c66-1d886fe5815f",
   "metadata": {},
   "outputs": [],
   "source": []
  },
  {
   "cell_type": "code",
   "execution_count": 57,
   "id": "88d80760-af77-4354-adef-db644f75f15f",
   "metadata": {},
   "outputs": [
    {
     "data": {
      "text/plain": [
       "'Step 5 - Train Model and Create Submissions'"
      ]
     },
     "execution_count": 57,
     "metadata": {},
     "output_type": "execute_result"
    }
   ],
   "source": [
    "'''Step 5 - Train Model and Create Submissions'''"
   ]
  },
  {
   "cell_type": "code",
   "execution_count": 58,
   "id": "8a1323e7-b45c-4c78-9211-dd724df1d6b0",
   "metadata": {},
   "outputs": [
    {
     "name": "stdout",
     "output_type": "stream",
     "text": [
      "Your submission was successfully saved!\n"
     ]
    }
   ],
   "source": [
    "# Once you're satisfied with everything, it's time to create your final predictions! This cell will:\n",
    "# create your feature set from the original data\n",
    "# train XGBoost on the training data\n",
    "# use the trained model to make predictions from the test set\n",
    "# save the predictions to a CSV file\n",
    "\n",
    "X_train, X_test = create_features(df_train, df_test)\n",
    "y_train = df_train.loc[:, \"SalePrice\"]\n",
    "\n",
    "xgb = XGBRegressor(**xgb_params)\n",
    "# XGB minimizes MSE, but competition loss is RMSLE\n",
    "# So, we need to log-transform y to train and exp-transform the predictions\n",
    "xgb.fit(X_train, np.log(y))\n",
    "predictions = np.exp(xgb.predict(X_test))\n",
    "\n",
    "output = pd.DataFrame({'Id': X_test.index, 'SalePrice': predictions})\n",
    "output.to_csv('my_submission.csv', index=False)\n",
    "print(\"Your submission was successfully saved!\")"
   ]
  },
  {
   "cell_type": "code",
   "execution_count": null,
   "id": "e9869fcb-cd1d-4393-947c-ecb7061a51e2",
   "metadata": {},
   "outputs": [],
   "source": []
  },
  {
   "cell_type": "code",
   "execution_count": null,
   "id": "58586ebe-40df-4c24-b1fa-1e73af0496e2",
   "metadata": {},
   "outputs": [],
   "source": []
  }
 ],
 "metadata": {
  "kernelspec": {
   "display_name": "Python 3 (ipykernel)",
   "language": "python",
   "name": "python3"
  },
  "language_info": {
   "codemirror_mode": {
    "name": "ipython",
    "version": 3
   },
   "file_extension": ".py",
   "mimetype": "text/x-python",
   "name": "python",
   "nbconvert_exporter": "python",
   "pygments_lexer": "ipython3",
   "version": "3.9.2"
  }
 },
 "nbformat": 4,
 "nbformat_minor": 5
}
